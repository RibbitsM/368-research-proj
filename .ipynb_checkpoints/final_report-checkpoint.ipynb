{
 "cells": [
  {
   "cell_type": "markdown",
   "id": "de6076eb-02b4-4a2a-bfc1-80fd5ad48c15",
   "metadata": {},
   "source": [
    "# Research Project Final Report (Healthcare & Technology)\n",
    "\n",
    "### Adam Walmsley Rowan Murphy\n",
    "\n",
    "#### Link to github: https://github.com/RibbitsM/368-research-proj/tree/main\n",
    "\n",
    "### March 31st, 2025\n",
    "\n",
    "##### AI Tool Use Declaration:\n",
    "ChatGPT was used to aid with some of the data cleaning steps for this project. Specific Prompts included:\n",
    "- 'How to replace names from a data frame with others'\n",
    "- 'How to pivot a data frame'\n",
    "- 'How to plot groups of data'\n",
    "- 'How set up an ANOVA test in python'\n",
    "- 'How to set up a one-tail t-test in python'"
   ]
  },
  {
   "cell_type": "markdown",
   "id": "74146069-a91f-4679-95dd-152737cf43be",
   "metadata": {},
   "source": [
    "## Introduction\n",
    "\n",
    "Healthcare in Canada is a publically funded system where all citizens have access to many healthcare services without paying any out-of-pocket costs directly. The funding comes from tax payers through distinct federal and provincial/territorial channels. The federal and provincial/territorial governments in power at any given time have significant power and influence when it comes to healthcare spending and delivery quality. They can influence annual budgets, implementation strategies and more so it is important that the general public is aware of the specifics behind how healthcare is being controlled and operated in Canada. With this we introduce the main topic of this report which is to answer two important research questions that concern healthcare in Canada, they are as follows:\n",
    "\n",
    "1. With what level of importance do the different provincial government parties give to healthcare spending and is there one party that clearly cares more about public healthcare?\n",
    "\n",
    "2. Which province has the most efficient healthcare spending?\n",
    "\n",
    "Through our analysis we will answer these important questions to give insight that is otherwise not made obvious to the general public. With knowing the answers to these questions we hope to inform readers with unbiased results on government policies regarding healthcare and the associated outcomes of such policies. We will also gain an understanding on what policies lead to the best results. Overall we will educate readers on real and unbiased histories of healthcare in Canada which will hopefully spark further discussion and let us realize how important organized data and thorough analysis can be to realizing a more informed public. "
   ]
  },
  {
   "cell_type": "markdown",
   "id": "367fdfd8-0896-43ea-ad3c-6f5791402bc2",
   "metadata": {
    "jp-MarkdownHeadingCollapsed": true
   },
   "source": [
    "## Related Work\n",
    "\n",
    "Many studies have been conducted in an attempt to understand what factors allow for flourishing of public healthcare systems (PHS) both in Canada and globally. These studies have highlighted government and country characteristics which tend towards successful PHCs and even highlight party 'types' like left versus right which historically PHCs benefit from and vice versa. (Erlangaa et al, 2023) looks at many factors available for countries around the world and each countries associated PHC. It looks at political stability, gross domestic product (GDP) and more to create a regression method to predict PHC quality in a country. This work highlights that public healthcare spending is a predictable characteristic in most cases although does not delve into Canadian specific histories which our work does. (Jacques et al, 2023) notes that more often than not Canadian left-leaning governments tend towards increased PHS spending, our work looks to confirm/deny this while being more specific on the governments. Overall, much work has been done in predicting and obtaining information on public healthcare spending globally and in Canada. Our work will not look into specifically what works and why within governments, but will paint a clear picture on histories in Canada and determine where healthcare is working well, and what governments care the most about it.\n",
    "\n",
    "https://pmc.ncbi.nlm.nih.gov/articles/PMC10689394/\n",
    "Global health care factors that lead to high quality\n",
    "\n",
    "https://pmc.ncbi.nlm.nih.gov/articles/PMC10054196/\n",
    "Within Canada analysis of health expenditure\n"
   ]
  },
  {
   "cell_type": "markdown",
   "id": "33a2a988-aff3-42dd-8bb6-5eaaf8d0b97b",
   "metadata": {},
   "source": [
    "## Data\n",
    "\n",
    "We are using three distinct data sets for our analysis:\n",
    "\n",
    "1. Provincial government types by year by province in Canada.\n",
    "2. Percent health expenditure increase/decrease by province by year.\n",
    "3. ROWANS DATASET\n",
    "\n",
    "The cleaning procedure for each data set can be found in a separate python file submitted with our project. \n",
    "\n",
    "#### Data Set 1: Provincial government types by year by province in Canada\n",
    "\n",
    "This data set was self-compiled based on historical data of governments in power across Canada from 2000 to 2024. It features the columns (Year, Province, Party). The provinces we initially considered were British Columbia, Alberta, Ontario and Quebec. The government types we considered are NDP, Conservative Party, Liberal Party, Party Quebecois, Coalition Avenir Quebec. To clean this data we firstly combined a few parties into one, specifically BC Liberal Party into Liberal Party since BC was the only province to have a distinct name for that party despite nearly identical ideologies. We also combined Progressive Conservative Party and United Conservate Party into simply Conservative Party for similar reasons. Finally we reorganized the layout of the dataset to the afformentioned layout since it originally had each considered province as its own column which was not suitable for our database schema. We chose this particular data set so we could relate later introduced public health care statistics to a government type to provide meaningful insight on a specific government type. After thorough exploritory data analysis we elected to not include Quebec and subsequent parties Party Quebecois and Coalition Avenir Quebec in our further analysis due to lack of representation in our data. \n",
    "\n",
    "#### Data Set 2: Percent health expenditure increase/decrease by province by year\n",
    "\n",
    "This data set was taken from the Canadian Institute for Health Information (CIHI) and contained information on health expenditure percent increase or decrease in each province/territory in Canada over may years. Our cleaned version of the data set contains columns (Year, Province, Percent_expenditure_change). We chose this data set since it contained the relevant healthcare statistics that we could use in combination with data set 1 to diagnose the importance each government gives to the PHS. To clean this data set we had to remove many rows that contained other data we were not interested in, select only the years from 2000 to 2024, instantiate correct data types for all entries, rename columns for better formatting, and finally reorganize the columns to make it compatible woth data set 1. \n",
    "\n",
    "#### Data Set 3: Rowan's data"
   ]
  },
  {
   "cell_type": "markdown",
   "id": "d78d0af1-831f-4a9b-a448-6c682de40994",
   "metadata": {},
   "source": [
    "## Methodology\n",
    "\n",
    "To answer the first research question: 'With what level of importance do the different provincial government parties give to healthcare spending and is there one party that clearly cares more about public healthcare?', we applied hypothesis testing to see if we could find a significant difference between government types. We chose to carry out our analysis in this way since it perfectly enables us to prove/disprove if there is a substantial difference between government types in Canada related to this topic. Further, it is a common and proven technique in statistics with a very clear implementation that would be relatively easy for anyone to interpret the outcome of independently. The code and figure generation is implemented in Python/analysis_RQ1.ipynb and conducts a oneway ANOVA and two hypothesis tests to compare Liberal and Conservative as well as NDP and Liberal parties on their health expenditure percent change."
   ]
  },
  {
   "cell_type": "markdown",
   "id": "7d2a07d6-d01d-4188-a5ab-491451c72d4c",
   "metadata": {},
   "source": [
    "## Results & Discussion\n",
    "\n",
    "#### Restating Research Questions\n",
    "\n",
    "1. With what level of importance do the different provincial government parties give to healthcare spending and is there one party that clearly cares more about public healthcare?\n",
    "\n",
    "2. Which province has the most efficient healthcare spending?\n",
    "\n",
    "### Research Question 1\n",
    "\n",
    "After conducting our analysis relating to our first research question we found the following three important results:\n",
    "\n",
    "1. Using ANOVA we confirmed that at least one party has a mean health expenditure change that is significantly different from the others.\n",
    "\n",
    "2. We confirmed through a pairwise hypothesis test that the conservative party has a mean health expenditure change greater than that of the Liberal party.\n",
    "\n",
    "3. Similarily, we confirmed through a pairwise hypothesis test that the NDP party has a mean health expenditure change greater than that of the Liberal party.\n",
    "\n",
    "The following figures show the results from these tests and associated p-values. We used a significance level of 0.05 and we found our null hypothesis was rejected for all three tests. The hypothesis' for all tests can be found in Python/analysis_RQ1.ipynb."
   ]
  },
  {
   "cell_type": "markdown",
   "id": "b8c6c765-f72c-42d3-b88e-20de9135aef5",
   "metadata": {},
   "source": [
    "**Figure 1: ANOVA Boxplot by Party**\n",
    "![Figure 1: ANOVA Boxplot by Party](Figures/anova_boxplot.png)"
   ]
  },
  {
   "cell_type": "markdown",
   "id": "aff605ee-a630-4d75-bc47-f165a7927dc4",
   "metadata": {},
   "source": [
    "**Figure 2: Conservative verus Liberal t-test**\n",
    "![Figure 2: Conservative vs Liberal t-test](Figures/conservative_vs_liberal_ttest.png)"
   ]
  },
  {
   "cell_type": "markdown",
   "id": "9d90a6f2-4295-4271-b6c2-4c3f31901eb4",
   "metadata": {},
   "source": [
    "**Figure 3: NDP verus Liberal t-test**\n",
    "![Figure 3: NDP vs Liberal t-test](Figures/NDP_vs_liberal_ttest.png)"
   ]
  },
  {
   "cell_type": "markdown",
   "id": "b74a4111-1c48-4665-9f36-6a3edf3905c5",
   "metadata": {},
   "source": [
    "Reflecting on the internal and external validity of our test we note a few successes and a shortcoming. We effectively measured the tangible history of parties and their willingness to contribute to improving their provinces PHS. Highlighting the monetary funds set aside by each party is directly related to the importance each party gives to PHS and definitely plays a major role in determining the 'care' each party gives to this topic which was the goal of our research question. In that sense we believe our measure does reflect what our research question is asking. The shortcomings of our answer sit in the reality of the situation of what increasing health expenditure really means. Increasing health expenditure by a party may not just reflect the level of care the parties give to their PHS. It could be a result of increased budgets in a given year due to market factors, pressures due to health events (COVID-19), and even attempts to sway voters. Our measure does not reflect the exact success of a PHS, how they choose to distribute these funds and the success of that process is independent of the budget increases. From this we can say that although our research question is based on a great metric that is simple and available, it does not reflect reality perfectly and nuances exist that may lead to our results not being perfect to answering our research question."
   ]
  },
  {
   "cell_type": "markdown",
   "id": "912b48f2-2ac7-43a7-a6c6-a1cc61d1b2b0",
   "metadata": {},
   "source": [
    "## Discussion of Results\n",
    "\n",
    "From our results we can state that the NDP and Conservative parties care more about the PHS in Canada and show this by consistently increasing the health expenditure budget by more than the liberal party at the provincial level in Canada since the year 2000. We proved through hypothesis testing that the mean percent increase in health expenditure year over year since 2000 increases by a significantly greater amount when NDP and Conservative provincial governments are in power when comp[ared to the Liberal Party. To the interested parties we present unbiased histories and tests which confirm this result. It may shape or reshape your understanding of what these parties hold paramount and even contribute to which party you choose to support in the future. It should be noted that these results are not a complete depiction of reality and external factors influence health expenditure change in a province, it is crucial to see this upon interpretation of our findings. "
   ]
  },
  {
   "cell_type": "markdown",
   "id": "33b0ffc2-1f73-44bd-8483-37c33ac055ed",
   "metadata": {},
   "source": [
    "## Future Work\n",
    "\n",
    "The interested communities should use these results to inform themselves, and/or build on this analysis by considering more factors that indicate importance governments give to the PHS. In the future we would hope to build on this analysis by doing just that. We would like to implement this across all provinces and Canada and consider factors past health expenditure change like healthcare spending as a percentage of total budget, per capita health care spending, and even legislative and budgetary voting records. Considering these would offer an answer that is further grounded in reality and closer to the truth of our research question. Using hypothesis testing as well as other methods like building a prediction model could also aid in interpreting our results. "
   ]
  },
  {
   "cell_type": "markdown",
   "id": "875d6791-d3cb-4c61-94bf-340947a60151",
   "metadata": {},
   "source": [
    "## References\n",
    "\n",
    "1. Darius Erlangga, Timothy Powell-Jackson, Dina Balabanova, and Kara Hanson. 2023. Determinants of government spending on primary healthcare: a global data analysis. BMJ Global Health 8, 11 (Nov. 2023), e012562. DOI: 10.1136/bmjgh-2023-012562.\n",
    "\n",
    "2. Olivier Jacques, Emmanuelle Arpin, Mehdi Ammi, and Alain Noël. 2023. The political and fiscal determinants of public health and curative care expenditures: evidence from the Canadian provinces, 1980–2018. Canadian Journal of Public Health 114, 4 (Mar. 2023), 584–592. DOI: 10.17269/s41997-023-00751-y.\n",
    "\n",
    "3. Canadian Institute for Health Information (CIHI). 2025. Data-driven insights for better health. Canadian Institute for Health Information. Retrieved April 2, 2025 from https://www.cihi.ca/en."
   ]
  },
  {
   "cell_type": "code",
   "execution_count": null,
   "id": "f49da0f2-6d9f-4ca0-9f90-b5d30cd6e4e1",
   "metadata": {},
   "outputs": [],
   "source": []
  }
 ],
 "metadata": {
  "kernelspec": {
   "display_name": "Python 3 (ipykernel)",
   "language": "python",
   "name": "python3"
  },
  "language_info": {
   "codemirror_mode": {
    "name": "ipython",
    "version": 3
   },
   "file_extension": ".py",
   "mimetype": "text/x-python",
   "name": "python",
   "nbconvert_exporter": "python",
   "pygments_lexer": "ipython3",
   "version": "3.9.21"
  }
 },
 "nbformat": 4,
 "nbformat_minor": 5
}
