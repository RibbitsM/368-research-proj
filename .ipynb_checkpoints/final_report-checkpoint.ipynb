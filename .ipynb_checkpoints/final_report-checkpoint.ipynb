{
 "cells": [
  {
   "cell_type": "markdown",
   "id": "de6076eb-02b4-4a2a-bfc1-80fd5ad48c15",
   "metadata": {},
   "source": [
    "# Research Project Final Report (Healthcare & Technology)\n",
    "\n",
    "### Adam Walmsley Rowan Murphy\n",
    "\n",
    "#### Link to github: https://github.com/RibbitsM/368-research-proj/tree/main\n",
    "\n",
    "### March 31st, 2025\n",
    "\n",
    "##### AI Tool Use Declaration:\n",
    "ChatGPT was used to aid with some of the data cleaning steps for this project. Specific Prompts included:\n",
    "- 'How to replace names from a data frame with others'\n",
    "- 'How to pivot a data frame'\n",
    "- 'How to plot groups of data'"
   ]
  },
  {
   "cell_type": "code",
   "execution_count": null,
   "id": "36565681-d409-4d31-858c-d4e620570b7c",
   "metadata": {},
   "outputs": [],
   "source": []
  }
 ],
 "metadata": {
  "kernelspec": {
   "display_name": "Python 3 (ipykernel)",
   "language": "python",
   "name": "python3"
  },
  "language_info": {
   "codemirror_mode": {
    "name": "ipython",
    "version": 3
   },
   "file_extension": ".py",
   "mimetype": "text/x-python",
   "name": "python",
   "nbconvert_exporter": "python",
   "pygments_lexer": "ipython3",
   "version": "3.9.21"
  }
 },
 "nbformat": 4,
 "nbformat_minor": 5
}
