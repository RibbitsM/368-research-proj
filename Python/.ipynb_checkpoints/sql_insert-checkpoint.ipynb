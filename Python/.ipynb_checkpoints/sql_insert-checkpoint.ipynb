{
 "cells": [
  {
   "cell_type": "code",
   "execution_count": 1,
   "id": "db3ea91c-a716-4df0-83c6-d7a9197aebcf",
   "metadata": {},
   "outputs": [],
   "source": [
    "import pandas as pd\n",
    "import altair as alt\n",
    "import numpy as np\n",
    "import openpyxl\n",
    "import math\n",
    "import matplotlib.pyplot as plt"
   ]
  },
  {
   "cell_type": "code",
   "execution_count": 4,
   "id": "13b2cb94-dab2-4e52-9066-1194e75e697b",
   "metadata": {},
   "outputs": [],
   "source": [
    "def make_sql(input_file, output_file, table_name):\n",
    "    data = pd.read_csv(input_file)\n",
    "    with open(output_file, \"w\") as f:\n",
    "        f.write(\"\")\n",
    "    for index, row in data.iterrows():\n",
    "        with open(output_file, \"a\") as f:\n",
    "            f.write(\"\\ninsert into \" + table_name + \" \\nvalues(\")\n",
    "            for item in range(data.shape[1]):\n",
    "                if item == data.shape[1] - 1:\n",
    "                    if str(row[item]) == 'nan':\n",
    "                        f.write(\"NULL\"+', ')\n",
    "                    else:\n",
    "                        f.write(\"'\"+str(row[item])+\"'\"+');\\n')\n",
    "                else:\n",
    "                    if str(row[item]) == 'nan':\n",
    "                        f.write(\"NULL\"+', ')\n",
    "                    else:\n",
    "                        f.write(\"'\"+str(row[item])+\"'\"+', ')"
   ]
  },
  {
   "cell_type": "code",
   "execution_count": 5,
   "id": "8dde8a71-67e2-49e2-a703-12a1936441f3",
   "metadata": {},
   "outputs": [
    {
     "ename": "FileNotFoundError",
     "evalue": "[Errno 2] No such file or directory: 'SQL/provincial_governments_2000_2024.sql'",
     "output_type": "error",
     "traceback": [
      "\u001b[0;31m---------------------------------------------------------------------------\u001b[0m",
      "\u001b[0;31mFileNotFoundError\u001b[0m                         Traceback (most recent call last)",
      "Cell \u001b[0;32mIn[5], line 2\u001b[0m\n\u001b[1;32m      1\u001b[0m \u001b[38;5;66;03m# Examples of running the script\u001b[39;00m\n\u001b[0;32m----> 2\u001b[0m \u001b[43mmake_sql\u001b[49m\u001b[43m(\u001b[49m\u001b[38;5;124;43m\"\u001b[39;49m\u001b[38;5;124;43m../Data/Clean/provincial_governments_2000_2024.csv\u001b[39;49m\u001b[38;5;124;43m\"\u001b[39;49m\u001b[43m,\u001b[49m\u001b[38;5;124;43m\"\u001b[39;49m\u001b[38;5;124;43mSQL/provincial_governments_2000_2024.sql\u001b[39;49m\u001b[38;5;124;43m\"\u001b[39;49m\u001b[43m,\u001b[49m\u001b[43m \u001b[49m\u001b[38;5;124;43m\"\u001b[39;49m\u001b[38;5;124;43mprovincial_governments\u001b[39;49m\u001b[38;5;124;43m\"\u001b[39;49m\u001b[43m)\u001b[49m;\n\u001b[1;32m      3\u001b[0m make_sql(\u001b[38;5;124m\"\u001b[39m\u001b[38;5;124m../Data/Clean/provincial_governments_2000_2024.csv\u001b[39m\u001b[38;5;124m\"\u001b[39m,\u001b[38;5;124m\"\u001b[39m\u001b[38;5;124mSQL/provincial_governments_2000_2024.sql\u001b[39m\u001b[38;5;124m\"\u001b[39m, \u001b[38;5;124m\"\u001b[39m\u001b[38;5;124mprovincial_governments\u001b[39m\u001b[38;5;124m\"\u001b[39m);\n\u001b[1;32m      4\u001b[0m make_sql(\u001b[38;5;124m\"\u001b[39m\u001b[38;5;124m../Data/Clean/nhex_prov_terr_data.csv\u001b[39m\u001b[38;5;124m\"\u001b[39m,\u001b[38;5;124m\"\u001b[39m\u001b[38;5;124mSQL/nhex_prov_terr_data.sql\u001b[39m\u001b[38;5;124m\"\u001b[39m, \u001b[38;5;124m\"\u001b[39m\u001b[38;5;124mpercent_expenditure_change\u001b[39m\u001b[38;5;124m\"\u001b[39m)\n",
      "Cell \u001b[0;32mIn[4], line 3\u001b[0m, in \u001b[0;36mmake_sql\u001b[0;34m(input_file, output_file, table_name)\u001b[0m\n\u001b[1;32m      1\u001b[0m \u001b[38;5;28;01mdef\u001b[39;00m \u001b[38;5;21mmake_sql\u001b[39m(input_file, output_file, table_name):\n\u001b[1;32m      2\u001b[0m     data \u001b[38;5;241m=\u001b[39m pd\u001b[38;5;241m.\u001b[39mread_csv(input_file)\n\u001b[0;32m----> 3\u001b[0m     \u001b[38;5;28;01mwith\u001b[39;00m \u001b[38;5;28;43mopen\u001b[39;49m\u001b[43m(\u001b[49m\u001b[43moutput_file\u001b[49m\u001b[43m,\u001b[49m\u001b[43m \u001b[49m\u001b[38;5;124;43m\"\u001b[39;49m\u001b[38;5;124;43mw\u001b[39;49m\u001b[38;5;124;43m\"\u001b[39;49m\u001b[43m)\u001b[49m \u001b[38;5;28;01mas\u001b[39;00m f:\n\u001b[1;32m      4\u001b[0m         f\u001b[38;5;241m.\u001b[39mwrite(\u001b[38;5;124m\"\u001b[39m\u001b[38;5;124m\"\u001b[39m)\n\u001b[1;32m      5\u001b[0m     \u001b[38;5;28;01mfor\u001b[39;00m index, row \u001b[38;5;129;01min\u001b[39;00m data\u001b[38;5;241m.\u001b[39miterrows():\n",
      "File \u001b[0;32m~/miniforge3/envs/cpsc368/lib/python3.9/site-packages/IPython/core/interactiveshell.py:286\u001b[0m, in \u001b[0;36m_modified_open\u001b[0;34m(file, *args, **kwargs)\u001b[0m\n\u001b[1;32m    279\u001b[0m \u001b[38;5;28;01mif\u001b[39;00m file \u001b[38;5;129;01min\u001b[39;00m {\u001b[38;5;241m0\u001b[39m, \u001b[38;5;241m1\u001b[39m, \u001b[38;5;241m2\u001b[39m}:\n\u001b[1;32m    280\u001b[0m     \u001b[38;5;28;01mraise\u001b[39;00m \u001b[38;5;167;01mValueError\u001b[39;00m(\n\u001b[1;32m    281\u001b[0m         \u001b[38;5;124mf\u001b[39m\u001b[38;5;124m\"\u001b[39m\u001b[38;5;124mIPython won\u001b[39m\u001b[38;5;124m'\u001b[39m\u001b[38;5;124mt let you open fd=\u001b[39m\u001b[38;5;132;01m{\u001b[39;00mfile\u001b[38;5;132;01m}\u001b[39;00m\u001b[38;5;124m by default \u001b[39m\u001b[38;5;124m\"\u001b[39m\n\u001b[1;32m    282\u001b[0m         \u001b[38;5;124m\"\u001b[39m\u001b[38;5;124mas it is likely to crash IPython. If you know what you are doing, \u001b[39m\u001b[38;5;124m\"\u001b[39m\n\u001b[1;32m    283\u001b[0m         \u001b[38;5;124m\"\u001b[39m\u001b[38;5;124myou can use builtins\u001b[39m\u001b[38;5;124m'\u001b[39m\u001b[38;5;124m open.\u001b[39m\u001b[38;5;124m\"\u001b[39m\n\u001b[1;32m    284\u001b[0m     )\n\u001b[0;32m--> 286\u001b[0m \u001b[38;5;28;01mreturn\u001b[39;00m \u001b[43mio_open\u001b[49m\u001b[43m(\u001b[49m\u001b[43mfile\u001b[49m\u001b[43m,\u001b[49m\u001b[43m \u001b[49m\u001b[38;5;241;43m*\u001b[39;49m\u001b[43margs\u001b[49m\u001b[43m,\u001b[49m\u001b[43m \u001b[49m\u001b[38;5;241;43m*\u001b[39;49m\u001b[38;5;241;43m*\u001b[39;49m\u001b[43mkwargs\u001b[49m\u001b[43m)\u001b[49m\n",
      "\u001b[0;31mFileNotFoundError\u001b[0m: [Errno 2] No such file or directory: 'SQL/provincial_governments_2000_2024.sql'"
     ]
    }
   ],
   "source": [
    "# Examples of running the script\n",
    "make_sql(\"../Data/Clean/provincial_governments_2000_2024.csv\",\"../SQL/provincial_governments_2000_2024.sql\", \"provincial_governments\");\n",
    "make_sql(\"../Data/Clean/provincial_governments_2000_2024.csv\",\"../SQL/provincial_governments_2000_2024.sql\", \"provincial_governments\");\n",
    "make_sql(\"../Data/Clean/nhex_prov_terr_data.csv\",\"../SQL/nhex_prov_terr_data.sql\", \"percent_expenditure_change\");"
   ]
  },
  {
   "cell_type": "code",
   "execution_count": null,
   "id": "0e88e1ee-6c5c-4dc6-b9e2-2f6e6f1577ba",
   "metadata": {},
   "outputs": [],
   "source": []
  }
 ],
 "metadata": {
  "kernelspec": {
   "display_name": "Python 3 (ipykernel)",
   "language": "python",
   "name": "python3"
  },
  "language_info": {
   "codemirror_mode": {
    "name": "ipython",
    "version": 3
   },
   "file_extension": ".py",
   "mimetype": "text/x-python",
   "name": "python",
   "nbconvert_exporter": "python",
   "pygments_lexer": "ipython3",
   "version": "3.9.21"
  }
 },
 "nbformat": 4,
 "nbformat_minor": 5
}
