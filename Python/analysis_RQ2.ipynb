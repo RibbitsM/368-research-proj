{
 "cells": [
  {
   "cell_type": "markdown",
   "id": "9a3c30ea",
   "metadata": {},
   "source": [
    "Need to find a way to manipulate data in SQL in an interesting way"
   ]
  },
  {
   "cell_type": "markdown",
   "id": "39652918",
   "metadata": {},
   "source": [
    "PHC_060: most positive level is 1, most negative is 5\n",
    "\n",
    "PHC_035: most positive level is 1, most negative is 7\n",
    "\n",
    "PHC_005: Yes or no question, 1 is positive and 2 is negative\n",
    "\n",
    "PHC_020: Yes or no question, 1 is positive and 2 is negative\n",
    "\n",
    "UCN_005: Yes or no question, 1 is negative and 2 is positive"
   ]
  },
  {
   "cell_type": "markdown",
   "id": "503809e9",
   "metadata": {},
   "source": [
    "Need to create a view in SQL that encodes all variables in some unified format and drops the total spending and year columns"
   ]
  }
 ],
 "metadata": {
  "language_info": {
   "name": "python"
  }
 },
 "nbformat": 4,
 "nbformat_minor": 5
}
