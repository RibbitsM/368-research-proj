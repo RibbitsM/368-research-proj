{
 "cells": [
  {
   "cell_type": "code",
   "execution_count": 1,
   "id": "db3ea91c-a716-4df0-83c6-d7a9197aebcf",
   "metadata": {},
   "outputs": [],
   "source": [
    "import pandas as pd\n",
    "import altair as alt\n",
    "import numpy as np\n",
    "import openpyxl\n",
    "import math\n",
    "import matplotlib.pyplot as plt"
   ]
  },
  {
   "cell_type": "code",
   "execution_count": 2,
   "id": "13b2cb94-dab2-4e52-9066-1194e75e697b",
   "metadata": {},
   "outputs": [],
   "source": [
    "def make_sql(input_file, output_file, table_name):\n",
    "    data = pd.read_csv(input_file)\n",
    "    with open(output_file, \"w\") as f:\n",
    "        f.write(\"\")\n",
    "    for index, row in data.iterrows():\n",
    "        with open(output_file, \"a\") as f:\n",
    "            f.write(\"\\ninsert into \" + table_name + \" \\nvalues(\")\n",
    "            for item in range(data.shape[1]):\n",
    "                if item == data.shape[1] - 1:\n",
    "                    if str(row[item]) == 'nan':\n",
    "                        f.write(\"NULL\"+', ')\n",
    "                    else:\n",
    "                        f.write(\"'\"+str(row[item])+\"'\"+');\\n')\n",
    "                else:\n",
    "                    if str(row[item]) == 'nan':\n",
    "                        f.write(\"NULL\"+', ')\n",
    "                    else:\n",
    "                        f.write(\"'\"+str(row[item])+\"'\"+', ')"
   ]
  },
  {
   "cell_type": "code",
   "execution_count": 3,
   "id": "8dde8a71-67e2-49e2-a703-12a1936441f3",
   "metadata": {},
   "outputs": [
    {
     "name": "stderr",
     "output_type": "stream",
     "text": [
      "/var/folders/ms/qqqflpss15dgyth1sr176lyw0000gn/T/ipykernel_7981/3319613684.py:15: FutureWarning: Series.__getitem__ treating keys as positions is deprecated. In a future version, integer keys will always be treated as labels (consistent with DataFrame behavior). To access a value by position, use `ser.iloc[pos]`\n",
      "  if str(row[item]) == 'nan':\n",
      "/var/folders/ms/qqqflpss15dgyth1sr176lyw0000gn/T/ipykernel_7981/3319613684.py:18: FutureWarning: Series.__getitem__ treating keys as positions is deprecated. In a future version, integer keys will always be treated as labels (consistent with DataFrame behavior). To access a value by position, use `ser.iloc[pos]`\n",
      "  f.write(\"'\"+str(row[item])+\"'\"+', ')\n",
      "/var/folders/ms/qqqflpss15dgyth1sr176lyw0000gn/T/ipykernel_7981/3319613684.py:10: FutureWarning: Series.__getitem__ treating keys as positions is deprecated. In a future version, integer keys will always be treated as labels (consistent with DataFrame behavior). To access a value by position, use `ser.iloc[pos]`\n",
      "  if str(row[item]) == 'nan':\n",
      "/var/folders/ms/qqqflpss15dgyth1sr176lyw0000gn/T/ipykernel_7981/3319613684.py:13: FutureWarning: Series.__getitem__ treating keys as positions is deprecated. In a future version, integer keys will always be treated as labels (consistent with DataFrame behavior). To access a value by position, use `ser.iloc[pos]`\n",
      "  f.write(\"'\"+str(row[item])+\"'\"+');\\n')\n",
      "/var/folders/ms/qqqflpss15dgyth1sr176lyw0000gn/T/ipykernel_7981/3319613684.py:15: FutureWarning: Series.__getitem__ treating keys as positions is deprecated. In a future version, integer keys will always be treated as labels (consistent with DataFrame behavior). To access a value by position, use `ser.iloc[pos]`\n",
      "  if str(row[item]) == 'nan':\n",
      "/var/folders/ms/qqqflpss15dgyth1sr176lyw0000gn/T/ipykernel_7981/3319613684.py:18: FutureWarning: Series.__getitem__ treating keys as positions is deprecated. In a future version, integer keys will always be treated as labels (consistent with DataFrame behavior). To access a value by position, use `ser.iloc[pos]`\n",
      "  f.write(\"'\"+str(row[item])+\"'\"+', ')\n",
      "/var/folders/ms/qqqflpss15dgyth1sr176lyw0000gn/T/ipykernel_7981/3319613684.py:10: FutureWarning: Series.__getitem__ treating keys as positions is deprecated. In a future version, integer keys will always be treated as labels (consistent with DataFrame behavior). To access a value by position, use `ser.iloc[pos]`\n",
      "  if str(row[item]) == 'nan':\n",
      "/var/folders/ms/qqqflpss15dgyth1sr176lyw0000gn/T/ipykernel_7981/3319613684.py:13: FutureWarning: Series.__getitem__ treating keys as positions is deprecated. In a future version, integer keys will always be treated as labels (consistent with DataFrame behavior). To access a value by position, use `ser.iloc[pos]`\n",
      "  f.write(\"'\"+str(row[item])+\"'\"+');\\n')\n",
      "/var/folders/ms/qqqflpss15dgyth1sr176lyw0000gn/T/ipykernel_7981/3319613684.py:15: FutureWarning: Series.__getitem__ treating keys as positions is deprecated. In a future version, integer keys will always be treated as labels (consistent with DataFrame behavior). To access a value by position, use `ser.iloc[pos]`\n",
      "  if str(row[item]) == 'nan':\n",
      "/var/folders/ms/qqqflpss15dgyth1sr176lyw0000gn/T/ipykernel_7981/3319613684.py:18: FutureWarning: Series.__getitem__ treating keys as positions is deprecated. In a future version, integer keys will always be treated as labels (consistent with DataFrame behavior). To access a value by position, use `ser.iloc[pos]`\n",
      "  f.write(\"'\"+str(row[item])+\"'\"+', ')\n",
      "/var/folders/ms/qqqflpss15dgyth1sr176lyw0000gn/T/ipykernel_7981/3319613684.py:10: FutureWarning: Series.__getitem__ treating keys as positions is deprecated. In a future version, integer keys will always be treated as labels (consistent with DataFrame behavior). To access a value by position, use `ser.iloc[pos]`\n",
      "  if str(row[item]) == 'nan':\n",
      "/var/folders/ms/qqqflpss15dgyth1sr176lyw0000gn/T/ipykernel_7981/3319613684.py:13: FutureWarning: Series.__getitem__ treating keys as positions is deprecated. In a future version, integer keys will always be treated as labels (consistent with DataFrame behavior). To access a value by position, use `ser.iloc[pos]`\n",
      "  f.write(\"'\"+str(row[item])+\"'\"+');\\n')\n"
     ]
    }
   ],
   "source": [
    "# Examples of running the script\n",
    "make_sql(\"../Data/Clean/provincial_governments_2000_2024.csv\",\"../SQL/provincial_governments_2000_2024.sql\", \"provincial_governments\");\n",
    "make_sql(\"../Data/Clean/provincial_governments_2000_2024.csv\",\"../SQL/provincial_governments_2000_2024.sql\", \"provincial_governments\");\n",
    "make_sql(\"../Data/Clean/nhex_prov_terr_data.csv\",\"../SQL/nhex_prov_terr_data.sql\", \"percent_expenditure_change\");"
   ]
  }
 ],
 "metadata": {
  "kernelspec": {
   "display_name": "Python 3 (ipykernel)",
   "language": "python",
   "name": "python3"
  },
  "language_info": {
   "codemirror_mode": {
    "name": "ipython",
    "version": 3
   },
   "file_extension": ".py",
   "mimetype": "text/x-python",
   "name": "python",
   "nbconvert_exporter": "python",
   "pygments_lexer": "ipython3",
   "version": "3.9.21"
  }
 },
 "nbformat": 4,
 "nbformat_minor": 5
}
