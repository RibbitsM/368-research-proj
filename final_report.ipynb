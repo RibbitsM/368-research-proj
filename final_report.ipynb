{
 "cells": [
  {
   "cell_type": "markdown",
   "id": "de6076eb-02b4-4a2a-bfc1-80fd5ad48c15",
   "metadata": {},
   "source": [
    "# Research Project Final Report (Healthcare & Technology)\n",
    "\n",
    "### Adam Walmsley Rowan Murphy\n",
    "\n",
    "#### Link to github: https://github.com/RibbitsM/368-research-proj/tree/main\n",
    "\n",
    "### March 31st, 2025\n",
    "\n",
    "##### AI Tool Use Declaration:\n",
    "ChatGPT was used to aid with some of the data cleaning steps for this project. Specific Prompts included:\n",
    "- 'How to replace names from a data frame with others'\n",
    "- 'How to pivot a data frame'\n",
    "- 'How to plot groups of data'"
   ]
  },
  {
   "cell_type": "markdown",
   "id": "74146069-a91f-4679-95dd-152737cf43be",
   "metadata": {},
   "source": [
    "## Introduction\n",
    "\n",
    "Healthcare in Canada is a publically funded system where all citizens have access to many healthcare services without paying any out-of-pocket costs directly. The funding comes from tax payers through distinct federal and provincial/territorial channels. The federal and provincial/territorial governments in power at any given time have significant power and influence when it comes to healthcare spending and delivery quality. They can influence annual budgets, implementation strategies and more so it is important that the general public is aware of the specifics behind how healthcare is being controlled and operated in Canada. With this we introduce the main topic of this report which is to answer two important research questions that concern healthcare in Canada, they are as follows:\n",
    "\n",
    "1. With what level of importance do the different provincial government parties give to healthcare spending and is there one party that clearly cares more about public healthcare?\n",
    "\n",
    "2. Which province has the most efficient healthcare spending?\n",
    "\n",
    "Through our analysis we will answer these important questions to give insight that is otherwise not made obvious to the general public. With knowing the answers to these questions we hope to inform readers with unbiased results on government policies regarding healthcare and the associated outcomes of such policies. We will also gain an understanding on what policies lead to the best results. Overall we will educate readers on real and unbiased histories of healthcare in Canada which will hopefully spark further discussion and let us realize how important organized data and thorough analysis can be to realizing a more informed public. "
   ]
  },
  {
   "cell_type": "markdown",
   "id": "367fdfd8-0896-43ea-ad3c-6f5791402bc2",
   "metadata": {},
   "source": [
    "## Related Work\n",
    "\n",
    "Many studies have been conducted in an attempt to understand what factors allow for flourishing of public healthcare systems (PHS) both in Canada and globally. These studies have highlighted government and country characteristics which tend towards successful PHCs and even highlight party 'types' like left versus right which historically PHCs benefit from and vice versa. (Erlangaa et al, 2023) looks at many factors available for countries around the world and each countries associated PHC. It looks at political stability, gross domestic product (GDP) and more to create a regression method to predict PHC quality in a country. This work highlights that public healthcare spending is a predictable characteristic in most cases although does not delve into Canadian specific histories which our work does. (Jacques et al, 2023) notes that more often than not Canadian left-leaning governments tend towards increased PHS spending, our work looks to confirm/deny this while being more specific on the governments. Overall, much work has been done in predicting and obtaining information on public healthcare spending globally and in Canada. Our work will not look into specifically what works and why within governments, but will paint a clear picture on histories in Canada and determine where healthcare is working well, and what governments care the most about it.\n",
    "\n",
    "https://pmc.ncbi.nlm.nih.gov/articles/PMC10689394/\n",
    "Global health care factors that lead to high quality\n",
    "\n",
    "https://pmc.ncbi.nlm.nih.gov/articles/PMC10054196/\n",
    "Within Canada analysis of health expenditure\n"
   ]
  },
  {
   "cell_type": "markdown",
   "id": "33a2a988-aff3-42dd-8bb6-5eaaf8d0b97b",
   "metadata": {},
   "source": [
    "## Data\n",
    "\n",
    "We are using three distinct data sets for our analysis:\n",
    "\n",
    "1. Provincial government types by year by province in Canada.\n",
    "2. Percent health expenditure increase/decrease by province by year.\n",
    "3. ROWANS DATASET\n",
    "\n",
    "The cleaning procedure for each data set can be found in a separate python file submitted with our project. \n",
    "\n",
    "#### Data Set 1: Provincial government types by year by province in Canada\n",
    "\n",
    "This data set was self-compiled based on historical data of governments in power across Canada from 2000 to 2024. It features the columns (Year, Province, Party). The provinces we initially considered were British Columbia, Alberta, Ontario and Quebec. The government types we considered are NDP, Conservative Party, Liberal Party, Party Quebecois, Coalition Avenir Quebec. To clean this data we firstly combined a few parties into one, specifically BC Liberal Party into Liberal Party since BC was the only province to have a distinct name for that party despite nearly identical ideologies. We also combined Progressive Conservative Party and United Conservate Party into simply Conservative Party for similar reasons. Finally we reorganized the layout of the dataset to the afformentioned layout since it originally had each considered province as its own column which was not suitable for our database schema. We chose this particular data set so we could relate later introduced public health care statistics to a government type to provide meaningful insight on a specific government type. After thorough exploritory data analysis we elected to not include Quebec and subsequent parties Party Quebecois and Coalition Avenir Quebec in our further analysis due to lack of representation in our data. \n",
    "\n",
    "#### Data Set 2: Percent health expenditure increase/decrease by province by year\n",
    "\n",
    "This data set was taken from the Canadian Institute for Health Information (CIHI) and contained information on health expenditure percent increase or decrease in each province/territory in Canada over may years. Our cleaned version of the data set contains columns (Year, Province, Percent_expenditure_change). We chose this data set since it contained the relevant healthcare statistics that we could use in combination with data set 1 to diagnose the importance each government gives to the PHS. To clean this data set we had to remove many rows that contained other data we were not interested in, select only the years from 2000 to 2024, instantiate correct data types for all entries, rename columns for better formatting, and finally reorganize the columns to make it compatible woth data set 1. \n",
    "\n",
    "#### Data Set 3: Rowan's data"
   ]
  },
  {
   "cell_type": "markdown",
   "id": "d78d0af1-831f-4a9b-a448-6c682de40994",
   "metadata": {},
   "source": [
    "## Methodology\n",
    "\n",
    "To answer the first research question: 'With what level of importance do the different provincial government parties give to healthcare spending and is there one party that clearly cares more about public healthcare?', we applied hypothesis testing to see if we could find a significant difference between government types. We chose to carry out our analysis in this way since it perfectly enables us to prove/disprove if there is a substantial difference between government types in Canada related to this topic. Further, it is a common and proven technique in statistics with a very clear implementation that would be relatively easy for anyone to interpret the outcome of independently. "
   ]
  },
  {
   "cell_type": "code",
   "execution_count": null,
   "id": "d9bf6e37-2dcd-4367-a0c5-a4d1bc739a5e",
   "metadata": {},
   "outputs": [],
   "source": []
  }
 ],
 "metadata": {
  "kernelspec": {
   "display_name": "Python 3 (ipykernel)",
   "language": "python",
   "name": "python3"
  },
  "language_info": {
   "codemirror_mode": {
    "name": "ipython",
    "version": 3
   },
   "file_extension": ".py",
   "mimetype": "text/x-python",
   "name": "python",
   "nbconvert_exporter": "python",
   "pygments_lexer": "ipython3",
   "version": "3.9.21"
  }
 },
 "nbformat": 4,
 "nbformat_minor": 5
}
