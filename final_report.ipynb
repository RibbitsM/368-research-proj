{
 "cells": [
  {
   "cell_type": "markdown",
   "id": "de6076eb-02b4-4a2a-bfc1-80fd5ad48c15",
   "metadata": {},
   "source": [
    "# Research Project Final Report (Healthcare & Technology)\n",
    "\n",
    "### Adam Walmsley, Rowan Murphy\n",
    "\n",
    "#### Link to github: https://github.com/RibbitsM/368-research-proj/tree/main\n",
    "\n",
    "### April 8th, 2025\n",
    "\n",
    "##### AI Tool Use Declaration:\n",
    "ChatGPT was used to aid with some of the data cleaning steps for this project. Specific Prompts included:\n",
    "- 'How to replace names from a data frame with others'\n",
    "- 'How to pivot a data frame'\n",
    "- 'How to plot groups of data'\n",
    "- 'How set up an ANOVA test in python'\n",
    "- 'How to set up a one-tail t-test in python'"
   ]
  },
  {
   "cell_type": "markdown",
   "id": "74146069-a91f-4679-95dd-152737cf43be",
   "metadata": {},
   "source": [
    "## Introduction\n",
    "\n",
    "Healthcare in Canada is a publically funded system where all citizens have access to many healthcare services without paying any out-of-pocket costs directly. The funding comes from tax payers through distinct federal and provincial/territorial channels. The federal and provincial/territorial governments in power at any given time have significant power and influence when it comes to healthcare spending and delivery quality. They can influence annual budgets, implementation strategies and more so it is important that the general public is aware of the specifics behind how healthcare is being controlled and operated in Canada. With this we introduce the main topic of this report which is to answer two important research questions that concern healthcare in Canada, they are as follows:\n",
    "\n",
    "1. With what level of importance do the different provincial government parties give to healthcare spending and is there one party that clearly cares more about public healthcare?\n",
    "\n",
    "2. Which province has the most efficient healthcare spending?\n",
    "\n",
    "Through our analysis we will answer these important questions to give insight that is otherwise not made obvious to the general public. With knowing the answers to these questions we hope to inform readers with unbiased results on government policies regarding healthcare and the associated outcomes of such policies. We will also gain an understanding on what policies lead to the best results. Overall we will educate readers on real and unbiased histories of healthcare in Canada which will hopefully spark further discussion and let us realize how important organized data and thorough analysis can be to realizing a more informed public. "
   ]
  },
  {
   "cell_type": "markdown",
   "id": "367fdfd8-0896-43ea-ad3c-6f5791402bc2",
   "metadata": {
    "jp-MarkdownHeadingCollapsed": true
   },
   "source": [
    "## Related Work\n",
    "\n",
    "Many studies have been conducted in an attempt to understand what factors allow for flourishing of public healthcare systems (PHS) both in Canada and globally. These studies have highlighted government and country characteristics which tend towards successful PHCs and even highlight party 'types' like left versus right which historically PHCs benefit from and vice versa. (Erlangaa et al, 2023) looks at many factors available for countries around the world and each countries associated PHC. It looks at political stability, gross domestic product (GDP) and more to create a regression method to predict PHC quality in a country. This work highlights that public healthcare spending is a predictable characteristic in most cases although does not delve into Canadian specific histories which our work does. There has also been exploration into healthcare efficiency done by the Canadian Institute for Health Information (CIHI), even using the same healthcare spending per capita metric used in this analysis, although the metric used to measure healthcare quality differs. In the CIHI paper (CIHI, 2014), efficiency is calculated based on preventable deaths instead of satisfaction with health care, and it measures efficiencuy across health region instead of province. (Jacques et al, 2023) notes that more often than not Canadian left-leaning governments tend towards increased PHS spending, our work looks to confirm/deny this while being more specific on the governments. Overall, much work has been done in predicting and obtaining information on public healthcare spending globally and in Canada. Our work will not look into specifically what works and why within governments, but will paint a clear picture on histories in Canada and determine where healthcare is working well, and what governments care the most about it.\n",
    "\n",
    "https://pmc.ncbi.nlm.nih.gov/articles/PMC10689394/\n",
    "Global health care factors that lead to high quality\n",
    "\n",
    "https://pmc.ncbi.nlm.nih.gov/articles/PMC10054196/\n",
    "Within Canada analysis of health expenditure\n"
   ]
  },
  {
   "cell_type": "markdown",
   "id": "33a2a988-aff3-42dd-8bb6-5eaaf8d0b97b",
   "metadata": {},
   "source": [
    "## Data\n",
    "\n",
    "We are using three distinct data sets for our analysis:\n",
    "\n",
    "1. Provincial government types by year by province in Canada.\n",
    "2. Yearly health expenditure by province\n",
    "3. Canadian community health survey 2019-2020\n",
    "\n",
    "The cleaning procedure for each data set can be found in a separate python file submitted with our project. \n",
    "\n",
    "#### Data Set 1: Provincial government types by year by province in Canada\n",
    "\n",
    "This data set was self-compiled based on historical data of governments in power across Canada from 2000 to 2024. It features the columns (Year, Province, Party). The provinces we initially considered were British Columbia, Alberta, Ontario and Quebec. The government types we considered are NDP, Conservative Party, Liberal Party, Party Quebecois, Coalition Avenir Quebec. To clean this data we firstly combined a few parties into one, specifically BC Liberal Party into Liberal Party since BC was the only province to have a distinct name for that party despite nearly identical ideologies. We also combined Progressive Conservative Party and United Conservate Party into simply Conservative Party for similar reasons. Finally we reorganized the layout of the dataset to the afformentioned layout since it originally had each considered province as its own column which was not suitable for our database schema. We chose this particular data set so we could relate later introduced public health care statistics to a government type to provide meaningful insight on a specific government type. After thorough exploritory data analysis we elected to not include Quebec and subsequent parties Party Quebecois and Coalition Avenir Quebec in our further analysis due to lack of representation in our data. \n",
    "\n",
    "#### Data Set 2: Yearly health expenditure by province\n",
    "\n",
    "This data set was taken from the Canadian Institute for Health Information (CIHI) and contains information on health expenditure percent increase or decrease as well as total and per capita health expenditure for each province/territory in Canada over many years. The cleaned version of the data set for research question 1 contains columns (Year, Province, Percent_expenditure_change), and the data for research question 2 includes columns representing the average total and per capita expenditure per province across 2019 and 2020. We chose this data set since it contained the relevant healthcare statistics that we could use in combination with data set 1 to diagnose the importance each government gives to the PHS. To clean this data set we had to remove many rows that contained other data we were not interested in, select only the years from 2000 to 2024, instantiate correct data types for all entries, rename columns for better formatting, and finally reorganize the columns to make it compatible with data set 1. For research question 2, this is data is key to evaluating healthcare efficiency as it offers a concise measure of the resources available to each provincial government. To be integrated with dataset 3, only data from 2019 and 2020 was selected, and was aggregated to form a single measure per province representing both years. Also, data for all three territories was further aggregated into a single column to match the shape of dataset 3.\n",
    "\n",
    "#### Data Set 3: Canadian Community Health Survey\n",
    "\n",
    "This dataset was sourced from Abacus with access through the UBC Library, but originally comes from Statistics Canada. The orignal title of the dataset is Canadian Community Health Survey - Annual Component (CCHS) 2019-2020. This dataset is generated from an annual cross-sectional health survey representing all Canadian indidivudals ages 12 and up in all thirteen provinces and territories. The purpose of including this dataset is to measure the quality of healthcare across provinces. This is done by extracting a number of variables from this survey involving access to healthcare, satisfaction with healthcare, and estimation of unmet healthcare needs. In order to merge this dataset with information from dataset 2, the values of these variables have been aggregated for each province and territory. Additionally, this dataset does not measure each territory individually and instead groups them all under a single class, unlike dataset 2."
   ]
  },
  {
   "cell_type": "markdown",
   "id": "6b85a5e6",
   "metadata": {},
   "source": [
    "## Exploratory Data Analysis\n",
    "\n",
    "In this section we will take a closer look at the trends in our data to gain insight that we can use before further analysis. "
   ]
  },
  {
   "cell_type": "markdown",
   "id": "84ea3399",
   "metadata": {},
   "source": [
    "The first thing we will look at is the frequency of each party. To do this we will first plot a histogram of the parties and then a histogram of party by province."
   ]
  },
  {
   "cell_type": "markdown",
   "id": "f303ebd1",
   "metadata": {},
   "source": [
    "**Figure 1: Frequency of Each Party Being in Power**\n",
    "\n",
    "![Figure 1](Figures/party_frequency_eda.png)"
   ]
  },
  {
   "cell_type": "markdown",
   "id": "98bbc262",
   "metadata": {},
   "source": [
    "From figure 1 above we can see that the Liberal Party is very well represented in our data whereas Coalition Avenir Quebec and Parti Quebecois are not. This is critical information to know since for our first research question we will be using hypothesis testing and if there are not many samples for certain groups then our power will be very low. As a result of this we may end up exluding Quebec as a province in our analysis so we can focus on more mainstream parties in Canada."
   ]
  },
  {
   "cell_type": "markdown",
   "id": "a911b64a",
   "metadata": {},
   "source": [
    "For our next visualization we will look into the data on percent change in expenditure for public health. We will plot The percent change in expenditure for each province over the timeline of the datas set to see if there is much of a difference between provinces over the past 24 years."
   ]
  },
  {
   "cell_type": "markdown",
   "id": "3f78afb6",
   "metadata": {},
   "source": [
    "**Figure 2: Historical Expenditure Change by Province**\n",
    "\n",
    "![Figure 2](Figures/historical_exp_change_eda.png)"
   ]
  },
  {
   "cell_type": "markdown",
   "id": "f4792cff",
   "metadata": {},
   "source": [
    "The visualization in figure 2 lets us see if each province generally maintains the same trends in healthcare spending. This will give us insight into whether government type really does affect percent increase in expenditure for public health and this graph does just that. We can see a general trend in spending, but there exist differences between provinces which is crucial. Further, it is interesting to note that we can clearly see the spike due to the Covid-19 pandemic. "
   ]
  },
  {
   "cell_type": "markdown",
   "id": "8e564f70",
   "metadata": {},
   "source": [
    "For the second research question, our dataset only has a few variables in it so we should be able to fit all of them into one comprehensive visualization, or at least a set of visualizations. We're going to make several scatterplots with a survey variable on the x axis and the per capita spending on the y axis with the points coloured by province, which should hopefully give an indication of any correlations or patterns in the data."
   ]
  },
  {
   "cell_type": "markdown",
   "id": "b7b8ef7c",
   "metadata": {},
   "source": [
    "**Figure 3: Average Expenditure per Capita by Province and Survey Metric**\n",
    "\n",
    "![Figure 3](Figures/expenditure_province_metric.svg)"
   ]
  },
  {
   "cell_type": "markdown",
   "id": "78c59c2d",
   "metadata": {},
   "source": [
    "## Results fom our EDA Process\n",
    "\n",
    "In figure 1 we saw the underrepresentation of 2 parties in Quebec. From this we will likely exclude Quebec as a province in parts of our analysis since the number of samples is likely too small to make meaningful conclusion with. This will change the way we handle our data since we will have to end up exluding Quebec during our analysis later on."
   ]
  },
  {
   "cell_type": "markdown",
   "id": "fa560fce",
   "metadata": {},
   "source": [
    "There's a couple important things to note with figure 3. First of all, it seems like some variables have much more variation between provinces compared to others. Specifically, PHC_020 (Access to regular health provider), PHC_060 (Coordination between health providers), and PHC_035 (Waiting time for minor health issues) seem to be particularly spread out. There are also two notable outliers, in Newfoundland and Labrador and particularly the Territories. Both of these regions have significantly higher spending per capita and while there isn't as clear of a trend in the survey variables, they tend to stick towards the right end of the graph, which indicates poorer health care as the most positive encoding for each variable is 1. Especially with access to regular health provider, this disparity is extremely notable. While this is like a product of geography and not a bias because of the smaller population, it would probably be worth it adding the total expenditure for each province as another variable."
   ]
  },
  {
   "cell_type": "markdown",
   "id": "d78d0af1-831f-4a9b-a448-6c682de40994",
   "metadata": {},
   "source": [
    "## Methodology\n",
    "\n",
    "To answer the first research question: 'With what level of importance do the different provincial government parties give to healthcare spending and is there one party that clearly cares more about public healthcare?', we applied hypothesis testing to see if we could find a significant difference between government types. We chose to carry out our analysis in this way since it perfectly enables us to prove/disprove if there is a substantial difference between government types in Canada related to this topic. Further, it is a common and proven technique in statistics with a very clear implementation that would be relatively easy for anyone to interpret the outcome of independently. The code and figure generation is implemented in Python/analysis_RQ1.ipynb and conducts a oneway ANOVA and two hypothesis tests to compare Liberal and Conservative as well as NDP and Liberal parties on their health expenditure percent change.\n",
    "\n",
    "To answer the second research question: \"Which province has the most effective healthcare spending\", we took a simpler approach. By normalizing our five survey metrics and aggregating them into a single care quality metric, we were able to create a loose ranking of the provincial healthcare systems based on the subjective experiences of their users including access to healthcare, wait times, and coordination between health professionals. We then adjusted for the available resources by dividing this metric by the per capita health expenditure for each province. The result is a sort of \"efficiency\" metric that quantifies the relative successes of provincial healthcare adjusted for the resources allocated to each person in that province. The normalization of the survey metrics was performed in SQL and is implemented in the survey_analysis.sql file and the remaining analysis was done in analysis_RQ2.ipynb. The resulting data was also used to generate a number of plots displaying the results and exploring the data as a whole."
   ]
  },
  {
   "cell_type": "markdown",
   "id": "7d2a07d6-d01d-4188-a5ab-491451c72d4c",
   "metadata": {},
   "source": [
    "## Results & Discussion\n",
    "\n",
    "#### Restating Research Questions\n",
    "\n",
    "1. With what level of importance do the different provincial government parties give to healthcare spending and is there one party that clearly cares more about public healthcare?\n",
    "\n",
    "2. Which province has the most efficient healthcare spending?\n",
    "\n",
    "### Research Question 1\n",
    "\n",
    "After conducting our analysis relating to our first research question we found the following three important results:\n",
    "\n",
    "1. Using ANOVA we confirmed that at least one party has a mean health expenditure change that is significantly different from the others.\n",
    "\n",
    "2. We confirmed through a pairwise hypothesis test that the conservative party has a mean health expenditure change greater than that of the Liberal party.\n",
    "\n",
    "3. Similarily, we confirmed through a pairwise hypothesis test that the NDP party has a mean health expenditure change greater than that of the Liberal party.\n",
    "\n",
    "The following figures show the results from these tests and associated p-values. We used a significance level of 0.05 and we found our null hypothesis was rejected for all three tests. The hypothesis' for all tests can be found in Python/analysis_RQ1.ipynb."
   ]
  },
  {
   "cell_type": "markdown",
   "id": "b8c6c765-f72c-42d3-b88e-20de9135aef5",
   "metadata": {},
   "source": [
    "**Figure 4: ANOVA Boxplot by Party**\n",
    "\n",
    "![Figure 4: ANOVA Boxplot by Party](Figures/anova_boxplot.png)"
   ]
  },
  {
   "cell_type": "markdown",
   "id": "aff605ee-a630-4d75-bc47-f165a7927dc4",
   "metadata": {},
   "source": [
    "**Figure 5: Conservative verus Liberal t-test**\n",
    "\n",
    "![Figure 5: Conservative vs Liberal t-test](Figures/conservative_vs_liberal_ttest.png)"
   ]
  },
  {
   "cell_type": "markdown",
   "id": "9d90a6f2-4295-4271-b6c2-4c3f31901eb4",
   "metadata": {},
   "source": [
    "**Figure 6: NDP verus Liberal t-test**\n",
    "\n",
    "![Figure 6: NDP vs Liberal t-test](Figures/NDP_vs_liberal_ttest.png)"
   ]
  },
  {
   "cell_type": "markdown",
   "id": "b74a4111-1c48-4665-9f36-6a3edf3905c5",
   "metadata": {},
   "source": [
    "Reflecting on the internal and external validity of our test we note a few successes and a shortcoming. We effectively measured the tangible history of parties and their willingness to contribute to improving their provinces PHS. Highlighting the monetary funds set aside by each party is directly related to the importance each party gives to PHS and definitely plays a major role in determining the 'care' each party gives to this topic which was the goal of our research question. In that sense we believe our measure does reflect what our research question is asking. The shortcomings of our answer sit in the reality of the situation of what increasing health expenditure really means. Increasing health expenditure by a party may not just reflect the level of care the parties give to their PHS. It could be a result of increased budgets in a given year due to market factors, pressures due to health events (COVID-19), and even attempts to sway voters. Our measure does not reflect the exact success of a PHS, how they choose to distribute these funds and the success of that process is independent of the budget increases. From this we can say that although our research question is based on a great metric that is simple and available, it does not reflect reality perfectly and nuances exist that may lead to our results not being perfect to answering our research question."
   ]
  },
  {
   "cell_type": "markdown",
   "id": "35ac7c19",
   "metadata": {},
   "source": [
    "### Research Question 2\n",
    "\n",
    "Even using our simple methodology without the use of regression or hypothesis testing, we still produced some interesting results. First, Ontario comes out on top which isn't very surprising as it is the largest province by population and home to the federal government. As such, it benefits by being the focus of the government and enjoys economies of scale. However, by that logic we would also expect Quebec to be near the top, but it is actually in the bottom half of the table. \n",
    "\n",
    "New Brunswick is the real surprise winner here, just barely losing first place to Ontario by a fraction of a percent. Without any obvious external advantages present, this definitely suggests that New Brunswick is doing something right. British Columbia is another large, well supported province we would expect to see high up on the list. The only other notable outliers on this list are Alberta and the Territories. Alberta should be up near the top with Ontario and BC, but here it is at the third from the bottom, a surprisingly poor result. \n",
    "\n",
    "Finally, the territories are a massive outlier with less than half the efficiency score of the lowest-ranking province. Unfortunately this is not very surprising, as the geographic challenges and low population density of the territories make providing effective healthcare incredibly difficult."
   ]
  },
  {
   "cell_type": "markdown",
   "id": "f7dcf44d",
   "metadata": {},
   "source": [
    "**Figure 7: Healthcare Quality and Efficiency by Province**\n",
    "\n",
    "![Figure 7: Healthcare Quality and Efficiency by Province](Figures/efficiency_quality_bar.png)"
   ]
  },
  {
   "cell_type": "markdown",
   "id": "e459b44e",
   "metadata": {},
   "source": [
    "Looking at the efficiency and care quality metrics side by side, we can find some interesting outliers. Despite being the second to last province in terms of efficiency, Newfoundland has the highest care quality metric, just barely beating out Ontario. Also, this shows just how bad the efficiency of the territories is as they are the only province on this graph where their care quality metric is larger than their efficiency metric.\n",
    "\n",
    "To provide context for the quality metric, we can examine Figure 8, which shows the ratio and values for all survey metrics across all provinces. Ontario, New Brunswick, and British Columbia all seem to have similar ratios, although New Brunswick has a notable worse waiting time metric compared to the other two. This chart also shows a crucial flaw with this data, which is that data on perceived unmet healthcare needs is unavailable for Alberta, PEI, Saskatchewan, and the Territories. However, considering the chart above, this doesn't seem to negatively affect the performance of PEI and Saskatchewan which still outperform provinces like Quebec both in care quality but also individually in all survey metrics. As we can see by examining Figure 8, Saskatchewan has higher survey metrics compared to Quebec in all categories, and since the care_quality metric is aggregated using the mean of all survey metrics, this difference is reflected in Figure 7"
   ]
  },
  {
   "cell_type": "markdown",
   "id": "11df7376",
   "metadata": {},
   "source": [
    "**Figure 8: Survey Metric Stats Per Province**\n",
    "\n",
    "![Figure 8](Figures/piechart.svg)"
   ]
  },
  {
   "cell_type": "markdown",
   "id": "221974b6",
   "metadata": {},
   "source": [
    "Finally, we should also explore how per capita expenditure plays a role in our results, as an important secondary concern for this research question is how provinces should try and adjust their operations to reach higher efficiency values. To help answer this, we have graphed the relationships between efficiency, per capita expenditure, and care quality"
   ]
  },
  {
   "cell_type": "markdown",
   "id": "76f738f1",
   "metadata": {},
   "source": [
    "**Figures 9 and 10: Relationship Between Expenditure and Efficiency, Relationship Between Care Quality and Efficiency**\n",
    "\n",
    "![Figure 9/10](Figures/line_relationships.svg)"
   ]
  },
  {
   "cell_type": "markdown",
   "id": "facd3f77",
   "metadata": {},
   "source": [
    "These two figures clearly shows a trend of increased efficiency as per capita expenditure decreases and as care quality increases, which makes sense given the way this metric is calculated. However, the fact that there are fewer outliers on the expenditure graph suggests that reducing expenditure is more important to increasing efficiency than lowering care quality. This is likely because the values for per capita expenditure across provinces vary much more than those for care quality."
   ]
  },
  {
   "cell_type": "markdown",
   "id": "6b944dc2",
   "metadata": {},
   "source": [
    "So far we have accepted as given that these survey metrics accurately measure the satisfaction that individuals feel with their provincial healthcare system. But this is far from the only metric one can use to measure the success of a healthcare system. In fact, most studies approaching this topic like the CIHI study mentioned in the Related Works section tend to focus on the tangible outcomes of healthcare rather than subjective experience. The CIHI study used data on the difference in life expectancy created by health care as the primary metric, not satisfaction with healthcare. For this research question our intention was to measure the relationship between health care spending and healthcare quality, but this project is also a study of politics which is dictated greatly by public perception. As a result, it makes more sense to focus on perceived healthcare quality, which we argue is represented by these survey metrics.\n",
    "\n",
    "Despite all this, the results for those four regions that lack unmet needs data should be taken with a grain of salt because even though they are not assigned a value of zero for the unmet needs variable, it still indirectly affects the calculations as most respondees tend to not report any unmet healthcare needs. This means that the value of unmet needs is often quite high which doesn't make a difference if all provinces have access to that high value when calculating care quality, but does provide a slight advantage as we have four regions lacking that information. Finally, we are also making a significant assumption by weighting all five variables equally in our calculations, as some aspects like waiting time or having access to local healthcare provider may be more important than others. However, without the input of a domain expert it is unwise to try and weight these factors on our own.\n",
    "\n",
    "Overall, this study is far from perfect but still succeeds in its fundamental goal of exploring healthcare efficiency across provinces. Survey data is an excellent choice for this topic, as we can pretty confidently state that the data we are using will be representative of the greater population. While the method of aggregation and calculation of that data is almost certainly flawed either in the normalization or aggregation process, the general trends observed should hold constant. It is very likely that Ontario indeed does have the most efficient healthcare system across all provinces, and equally likely that New Brunswick and British Columbia are close behind. As always, we should be critical of our own work and try our best to comprehend the limitations of our analysis."
   ]
  },
  {
   "cell_type": "markdown",
   "id": "912b48f2-2ac7-43a7-a6c6-a1cc61d1b2b0",
   "metadata": {},
   "source": [
    "## Discussion of Results\n",
    "\n",
    "From our results we can state that the NDP and Conservative parties care more about the PHS in Canada and show this by consistently increasing the health expenditure budget by more than the liberal party at the provincial level in Canada since the year 2000. We proved through hypothesis testing that the mean percent increase in health expenditure year over year since 2000 increases by a significantly greater amount when NDP and Conservative provincial governments are in power when compared to the Liberal Party. To the interested parties we present unbiased histories and tests which confirm this result. It may shape or reshape your understanding of what these parties hold paramount and even contribute to which party you choose to support in the future. It should be noted that these results are not a complete depiction of reality and external factors influence health expenditure change in a province, it is crucial to see this upon interpretation of our findings. \n",
    "\n",
    "To summarize the second research question, during the time period of 2019-2020 Ontario had the most efficient healthcare system in Canada, with efficiency measured as an aggregation of survey results depicting satisfaction with healthcare divided by the per capita expenditure on healthcare for Ontario. Ontario was followed very closely by New Brunswick with British Columbia falling further behind in third place. The region with the lowest efficiency by far were the Territories, likely due to a combination of low healthcare quality caused by the broad distribution of the population and a very high per capita healthcare expenditure due to the low total population numbers."
   ]
  },
  {
   "cell_type": "markdown",
   "id": "33b0ffc2-1f73-44bd-8483-37c33ac055ed",
   "metadata": {},
   "source": [
    "## Future Work\n",
    "\n",
    "The interested communities should use these results to inform themselves, and/or build on this analysis by considering more factors that indicate importance governments give to the PHS. In the future we would hope to build on this analysis by doing just that. We would like to implement this across all provinces and Canada and consider factors past health expenditure change like healthcare spending as a percentage of total budget, per capita health care spending, and even legislative and budgetary voting records. Considering these would offer an answer that is further grounded in reality and closer to the truth of our research question. Using hypothesis testing as well as other methods like building a prediction model could also aid in interpreting our results.\n",
    "\n",
    "Our analysis of provincial healthcare systems could be improved substantially with better, ideally with a survey designed specifically to collect information on healthcare satisfaction that uses the same metrics and questions for all regions of Canada. This approach could be coupled with a machine learning analysis used to determine the relative weights of different factors on overall healthcare quality and create a more nuanced healthcare quality metric that we can adjust using per capita expenditure on healthcare. Given enough time, this would also enable researchers to compare changes in healthcare efficiency time and even merge both research questions together by comparing efficiency from government to government to support policymaking decisions."
   ]
  },
  {
   "cell_type": "markdown",
   "id": "875d6791-d3cb-4c61-94bf-340947a60151",
   "metadata": {},
   "source": [
    "## References\n",
    "\n",
    "1. Darius Erlangga, Timothy Powell-Jackson, Dina Balabanova, and Kara Hanson. 2023. Determinants of government spending on primary healthcare: a global data analysis. BMJ Global Health 8, 11 (Nov. 2023), e012562. DOI: 10.1136/bmjgh-2023-012562.\n",
    "\n",
    "2. Olivier Jacques, Emmanuelle Arpin, Mehdi Ammi, and Alain Noël. 2023. The political and fiscal determinants of public health and curative care expenditures: evidence from the Canadian provinces, 1980–2018. Canadian Journal of Public Health 114, 4 (Mar. 2023), 584–592. DOI: 10.17269/s41997-023-00751-y.\n",
    "\n",
    "3. Canadian Institute for Health Information (CIHI). 2025. Data-driven insights for better health. Canadian Institute for Health Information. Retrieved April 2, 2025 from https://www.cihi.ca/en.\n",
    "\n",
    "4. Canadian Institute for Health Information (CIHI). 2014. Health System Efficiency in Canada: Why Does Efficiency Vary Among Regions?. Canadian Institute for Health Information. Retrieved April 6, 2025 from https://secure.cihi.ca/free_products/hse_short_aib_10apr14_en.pdf"
   ]
  },
  {
   "cell_type": "code",
   "execution_count": null,
   "id": "f49da0f2-6d9f-4ca0-9f90-b5d30cd6e4e1",
   "metadata": {},
   "outputs": [],
   "source": []
  }
 ],
 "metadata": {
  "kernelspec": {
   "display_name": "base",
   "language": "python",
   "name": "python3"
  },
  "language_info": {
   "codemirror_mode": {
    "name": "ipython",
    "version": 3
   },
   "file_extension": ".py",
   "mimetype": "text/x-python",
   "name": "python",
   "nbconvert_exporter": "python",
   "pygments_lexer": "ipython3",
   "version": "3.11.5"
  }
 },
 "nbformat": 4,
 "nbformat_minor": 5
}
