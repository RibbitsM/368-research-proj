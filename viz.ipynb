{
 "cells": [
  {
   "cell_type": "markdown",
   "metadata": {},
   "source": [
    "# Research Project Midway Point (Healthcare & Technology)\n",
    "\n",
    "### Adam Walmsley Rowan Murphy\n",
    "\n",
    "### March 12th, 2025\n",
    "\n",
    "##### AI Tool Use Declaration:\n",
    "To write this proposal we did not use ChatGPT or any other form of generative AI\n"
   ]
  },
  {
   "cell_type": "markdown",
   "metadata": {},
   "source": [
    "## Project Summary\n",
    "\n",
    "In this project we are looking at how healthcare spending in Canada changes between provincial government parties and how effective their policies are at having a high quality, functioning healthcare system. Our ultimate goal is to diagnose the success of the various parties in Canada to get an unbiased view of how important the public healthcare system is to each part respectively."
   ]
  },
  {
   "cell_type": "markdown",
   "metadata": {},
   "source": [
    "## Research Questions\n",
    "\n",
    "We have two members in our group and thus two distinct research questions, they are as follows:\n",
    "\n",
    "1. With what level of importance do the different provincial government parties give to healthcare spending and is there one party that clearly cares more about public healthcare?\n",
    "\n",
    "2. Which province has the most efficient healthcare spending?\n",
    "\n",
    "We did not tweak our research questions much since the initial proposal. This is because we felt they were adequate and our TA had no problems whatsoever with them."
   ]
  },
  {
   "cell_type": "markdown",
   "metadata": {},
   "source": [
    "## Data Cleaning Steps\n",
    "\n",
    "The following code and discussion will walk through our data cleaning process for all data sets."
   ]
  },
  {
   "cell_type": "markdown",
   "metadata": {},
   "source": [
    "We begin by importing the necessary libraries to enable our data cleaning process."
   ]
  },
  {
   "cell_type": "code",
   "execution_count": 15,
   "metadata": {},
   "outputs": [],
   "source": [
    "import pandas as pd\n",
    "import altair as alt\n",
    "import numpy as np\n",
    "import openpyxl\n",
    "import math\n",
    "import matplotlib.pyplot as plt"
   ]
  },
  {
   "cell_type": "markdown",
   "metadata": {},
   "source": [
    "The first data set to tackle is provincial_governments_2000_2024.csv. We made this data set ourselves after compiling historical data for provincial governments in power since 2000. The data set contains data on BC, Alberta, Ontario and Quebec only. We kept the parties specific names in, and there exist the following distinct parties in the dataset:\n",
    "\n",
    "- NDP\n",
    "- BC Liberal Party\n",
    "- Progressive Conservative Party\n",
    "- United Conservative Party\n",
    "- Liberal Party\n",
    "- Parti Quebecois\n",
    "- Coalition Avenir Quebec\n",
    "\n",
    "After researching the similarities between similarily named parties we realized some should be combined into one specific naming convention. Specifically, we will combine: \n",
    "- BC Liberal Party and Liberal Party into just Liberal Party\n",
    "- Progressive Conservative Party and United Conservative party into just Conservative Party\n",
    "\n",
    "Parti Quebecois and Coalition Avenir Quebec are very distinct in their policies and these will be kept separate as they are. Also, we will remove the accents above the e's in the Quebec party names. To perform this cleaning we present the following code."
   ]
  },
  {
   "cell_type": "code",
   "execution_count": 16,
   "metadata": {},
   "outputs": [],
   "source": [
    "# Load in data\n",
    "prov_df = pd.read_csv('Data/provincial_governments_2000_2024.csv')\n",
    "\n",
    "# Select columns to change\n",
    "columns_to_modify = [\n",
    "    'BC Provincial Government',\n",
    "    'Alberta Provincial Government',\n",
    "    'Ontario Provincial Government',\n",
    "    'Quebec Provincial Government'\n",
    "]\n",
    "\n",
    "# Identify specific replacements\n",
    "replacements = {\n",
    "    'BC Liberal Party': 'Liberal Party',\n",
    "    'Progressive Conservative Party': 'Conservative Party',\n",
    "    'United Conservative Party': 'Conservative Party',\n",
    "    'Parti Québécois': 'Parti Quebecois',\n",
    "    'Coalition Avenir Québec': 'Coalition Avenir Quebec'\n",
    "}\n",
    "\n",
    "# Apply changes\n",
    "prov_df[columns_to_modify] = prov_df[columns_to_modify].replace(replacements)"
   ]
  },
  {
   "cell_type": "markdown",
   "metadata": {},
   "source": [
    "Next, for compatibility we need to reorganize the layout of this dataset to be (Province, year, Government). We implement this with the following code."
   ]
  },
  {
   "cell_type": "code",
   "execution_count": 17,
   "metadata": {},
   "outputs": [
    {
     "data": {
      "text/html": [
       "<div>\n",
       "<style scoped>\n",
       "    .dataframe tbody tr th:only-of-type {\n",
       "        vertical-align: middle;\n",
       "    }\n",
       "\n",
       "    .dataframe tbody tr th {\n",
       "        vertical-align: top;\n",
       "    }\n",
       "\n",
       "    .dataframe thead th {\n",
       "        text-align: right;\n",
       "    }\n",
       "</style>\n",
       "<table border=\"1\" class=\"dataframe\">\n",
       "  <thead>\n",
       "    <tr style=\"text-align: right;\">\n",
       "      <th></th>\n",
       "      <th>Year</th>\n",
       "      <th>Province</th>\n",
       "      <th>Government</th>\n",
       "    </tr>\n",
       "  </thead>\n",
       "  <tbody>\n",
       "    <tr>\n",
       "      <th>0</th>\n",
       "      <td>2000</td>\n",
       "      <td>BC</td>\n",
       "      <td>NDP</td>\n",
       "    </tr>\n",
       "    <tr>\n",
       "      <th>1</th>\n",
       "      <td>2001</td>\n",
       "      <td>BC</td>\n",
       "      <td>NDP</td>\n",
       "    </tr>\n",
       "    <tr>\n",
       "      <th>2</th>\n",
       "      <td>2002</td>\n",
       "      <td>BC</td>\n",
       "      <td>Liberal Party</td>\n",
       "    </tr>\n",
       "  </tbody>\n",
       "</table>\n",
       "</div>"
      ],
      "text/plain": [
       "   Year Province     Government\n",
       "0  2000       BC            NDP\n",
       "1  2001       BC            NDP\n",
       "2  2002       BC  Liberal Party"
      ]
     },
     "execution_count": 17,
     "metadata": {},
     "output_type": "execute_result"
    }
   ],
   "source": [
    "# Pivot the dataframe to suggested format\n",
    "df_long = pd.melt(prov_df, \n",
    "                  id_vars=['Year'], \n",
    "                  var_name='Province', \n",
    "                  value_name='Government')\n",
    "\n",
    "# Clean up column names\n",
    "df_long['Province'] = df_long['Province'].str.replace(' Provincial Government', '')\n",
    "\n",
    "# Write to csv\n",
    "df_long.to_csv('Data/Clean/provincial_governments_2000_2024.csv', index=False)\n",
    "\n",
    "# Display cleaned and formatted data\n",
    "df_long.head(3)"
   ]
  },
  {
   "cell_type": "markdown",
   "metadata": {},
   "source": [
    "Next we look to clean the data set regarding provincial health expenditure per year percent increase across all provinces. This data set is particularly messy to begin with. We will perform the following operations to make the data suit our needs:\n",
    "\n",
    "- Remove rows 1 to 56 since they contain data only on total expenditure whereas we want percent increase/decrease in expenditure which is found on rows 56 and below\n",
    "- Remove rows past 105 since they contain other data we are not interested in\n",
    "- Remove columns which concern provinces we are not interested in\n",
    "- Remove rows from years outside of 2000 to 2024\n",
    "- Correct data types for all data since initial spreadsheet has all strings\n",
    "- Rename columns for better formatting"
   ]
  },
  {
   "cell_type": "code",
   "execution_count": 18,
   "metadata": {},
   "outputs": [],
   "source": [
    "# Load in data\n",
    "prov_spending_df = pd.read_csv('Data/nhex_prov_terr_data.csv', skiprows = 56, nrows = 49)\n",
    "\n",
    "# Select columns we care about\n",
    "columns_of_interest = [\n",
    "    \"Year\", \n",
    "    \"B.C.     \",\n",
    "    \"Alta.    \",\n",
    "    \"Ont.\",\n",
    "    \"Que.  \" \n",
    "]\n",
    "\n",
    "# Drop columns be do not care about\n",
    "prov_spending_df = prov_spending_df[columns_of_interest]\n",
    "\n",
    "# Convert data to correct types\n",
    "prov_spending_df[\"Year\"] = prov_spending_df[\"Year\"].astype(int)\n",
    "other_columns = prov_spending_df.columns.difference([\"Year\"])\n",
    "prov_spending_df[other_columns] = prov_spending_df[other_columns].astype(float)\n",
    "\n",
    "# Drop years we are not concerned with\n",
    "prov_spending_df = prov_spending_df[(prov_spending_df[\"Year\"] >= 2000)]\n",
    "\n",
    "prov_spending_df.reset_index(drop=True, inplace=True)\n",
    "\n",
    "# Rename columns\n",
    "prov_spending_df.rename(columns={\n",
    "    \"B.C.     \": \"BritishColumbia\",\n",
    "    \"Alta.    \": \"Alberta\",\n",
    "    \"Ont.\": \"Ontario\",\n",
    "    \"Que.  \": \"Quebec\"\n",
    "}, inplace=True)"
   ]
  },
  {
   "cell_type": "markdown",
   "metadata": {},
   "source": [
    "Now, to ensure compatibility we reformat this dataset to the structure (province, year, percent_expenditure_change), we do this with the following code."
   ]
  },
  {
   "cell_type": "code",
   "execution_count": 19,
   "metadata": {},
   "outputs": [
    {
     "data": {
      "text/html": [
       "<div>\n",
       "<style scoped>\n",
       "    .dataframe tbody tr th:only-of-type {\n",
       "        vertical-align: middle;\n",
       "    }\n",
       "\n",
       "    .dataframe tbody tr th {\n",
       "        vertical-align: top;\n",
       "    }\n",
       "\n",
       "    .dataframe thead th {\n",
       "        text-align: right;\n",
       "    }\n",
       "</style>\n",
       "<table border=\"1\" class=\"dataframe\">\n",
       "  <thead>\n",
       "    <tr style=\"text-align: right;\">\n",
       "      <th></th>\n",
       "      <th>Year</th>\n",
       "      <th>Province</th>\n",
       "      <th>Percent_expenditure_change</th>\n",
       "    </tr>\n",
       "  </thead>\n",
       "  <tbody>\n",
       "    <tr>\n",
       "      <th>0</th>\n",
       "      <td>2000</td>\n",
       "      <td>BritishColumbia</td>\n",
       "      <td>9.2</td>\n",
       "    </tr>\n",
       "    <tr>\n",
       "      <th>1</th>\n",
       "      <td>2001</td>\n",
       "      <td>BritishColumbia</td>\n",
       "      <td>10.4</td>\n",
       "    </tr>\n",
       "    <tr>\n",
       "      <th>2</th>\n",
       "      <td>2002</td>\n",
       "      <td>BritishColumbia</td>\n",
       "      <td>6.4</td>\n",
       "    </tr>\n",
       "  </tbody>\n",
       "</table>\n",
       "</div>"
      ],
      "text/plain": [
       "   Year         Province  Percent_expenditure_change\n",
       "0  2000  BritishColumbia                         9.2\n",
       "1  2001  BritishColumbia                        10.4\n",
       "2  2002  BritishColumbia                         6.4"
      ]
     },
     "execution_count": 19,
     "metadata": {},
     "output_type": "execute_result"
    }
   ],
   "source": [
    "# Pivot\n",
    "df_long_spending = pd.melt(prov_spending_df,\n",
    "                  id_vars=['Year'],\n",
    "                  var_name='Province',\n",
    "                  value_name='Percent_expenditure_change')\n",
    "\n",
    "# Write to csv\n",
    "df_long_spending.to_csv('Data/Clean/nhex_prov_terr_data.csv', index=False)\n",
    "\n",
    "# Display the cleaned and formatted data\n",
    "df_long_spending.head(3)"
   ]
  },
  {
   "cell_type": "markdown",
   "metadata": {},
   "source": [
    "## Exploratory Data Analysis\n",
    "\n",
    "In this section we will take a closer look at the trends in our data to gain insight that we can use before further analysis. "
   ]
  },
  {
   "cell_type": "markdown",
   "metadata": {},
   "source": [
    "The first thing we will look at is the frequency of each party. To do this we will first plot a histogram of the parties and then a histogram of party by province."
   ]
  },
  {
   "cell_type": "code",
   "execution_count": 5,
   "metadata": {},
   "outputs": [
    {
     "data": {
      "image/png": "[encoded data removed]",
      "text/plain": [
       "<Figure size 640x480 with 1 Axes>"
      ]
     },
     "metadata": {},
     "output_type": "display_data"
    }
   ],
   "source": [
    "# Load in the clean data of provincial governments in power by year\n",
    "prov_df = pd.read_csv('Data/Clean/provincial_governments_2000_2024.csv')\n",
    "\n",
    "# Drop year column\n",
    "parties_df = prov_df.drop(columns=['Year'])\n",
    "\n",
    "# Create single list for all occurences of parties\n",
    "all_parties = parties_df.values.ravel()\n",
    "\n",
    "# Count occurences of each party\n",
    "party_counts = pd.Series(all_parties).value_counts()\n",
    "\n",
    "# Plot frequency of each party being in power\n",
    "party_counts.plot(kind='bar', color='skyblue', edgecolor='black')\n",
    "plt.title('Figure 1: Frequency of Each Party Being in Power')\n",
    "plt.xlabel('Party')\n",
    "plt.ylabel('Frequency')\n",
    "plt.xticks(rotation=45, ha='right')  # Rotate labels for clarity if needed\n",
    "plt.tight_layout()  # Ensures labels/titles fit nicely\n",
    "plt.show()"
   ]
  },
  {
   "cell_type": "code",
   "execution_count": 6,
   "metadata": {},
   "outputs": [
    {
     "data": {
      "image/png": "[encoded data removed]",
      "text/plain": [
       "<Figure size 1000x600 with 1 Axes>"
      ]
     },
     "metadata": {},
     "output_type": "display_data"
    }
   ],
   "source": [
    "# Identify which columns correspond to provinces (assumes 'Year' is the only non-province column)\n",
    "province_cols = [col for col in prov_df.columns if col != 'Year']\n",
    "\n",
    "# Count how often each party appears in each province column\n",
    "counts_by_province = {}\n",
    "for col in province_cols:\n",
    "    counts_by_province[col] = prov_df[col].value_counts()\n",
    "\n",
    "# Build a DataFrame (rows = parties, columns = provinces)\n",
    "counts_df = pd.DataFrame(counts_by_province).fillna(0)\n",
    "\n",
    "# Transpose so provinces are on the x-axis, and each party is a different color bar\n",
    "counts_df.T.plot(kind='bar', figsize=(10, 6))\n",
    "\n",
    "# Plot frequency of each party in power per province\n",
    "plt.title('Figure 2: Frequency of Each Party Being in Power per Province')\n",
    "plt.xlabel('Province')\n",
    "plt.ylabel('Frequency')\n",
    "plt.xticks(rotation=45, ha='right')\n",
    "plt.legend(title='Party', bbox_to_anchor=(1.05, 1), loc='upper left')  # Move legend outside if desired\n",
    "plt.tight_layout()\n",
    "plt.show()"
   ]
  },
  {
   "cell_type": "markdown",
   "metadata": {},
   "source": [
    "From figure 1 we can see the popularity of each party nationwide. Clearly each party has different levels of popularity across Canada, and there is limited data on a few parties, particularly Coalition Avenir Quebec and Parti Quebecois. Figure 2 shows that certain parties are historically much more popular in certain provinces than in others. Liberals are the most popular party historically across three of the four provinces we are interested in, and all provinces but Quebec have only ever had two parties in power. "
   ]
  },
  {
   "cell_type": "markdown",
   "metadata": {},
   "source": []
  },
  {
   "cell_type": "markdown",
   "metadata": {},
   "source": [
    "## Rowans Stuff"
   ]
  },
  {
   "cell_type": "code",
   "execution_count": 7,
   "metadata": {},
   "outputs": [],
   "source": [
    "\n",
    "nhex_total = pd.read_csv('https://raw.githubusercontent.com/RibbitsM/368-research-proj/refs/heads/main/Data/nhex_prov_terr_data.csv',\n",
    "                        header=4, skiprows=lambda x: x > 51, dtype=np.float64, thousands=',', na_values='—')\n",
    "nhex_percapita = pd.read_csv('https://raw.githubusercontent.com/RibbitsM/368-research-proj/refs/heads/main/Data/nhex_prov_terr_data.csv',\n",
    "                        header=112, skiprows=lambda x: x > 160, dtype=np.float64, thousands=',', na_values='—')"
   ]
  },
  {
   "cell_type": "code",
   "execution_count": 8,
   "metadata": {},
   "outputs": [
    {
     "data": {
      "text/html": [
       "<div>\n",
       "<style scoped>\n",
       "    .dataframe tbody tr th:only-of-type {\n",
       "        vertical-align: middle;\n",
       "    }\n",
       "\n",
       "    .dataframe tbody tr th {\n",
       "        vertical-align: top;\n",
       "    }\n",
       "\n",
       "    .dataframe thead th {\n",
       "        text-align: right;\n",
       "    }\n",
       "</style>\n",
       "<table border=\"1\" class=\"dataframe\">\n",
       "  <thead>\n",
       "    <tr style=\"text-align: right;\">\n",
       "      <th></th>\n",
       "      <th>Year</th>\n",
       "      <th>N.L.</th>\n",
       "      <th>P.E.I.</th>\n",
       "      <th>N.S.</th>\n",
       "      <th>N.B.</th>\n",
       "      <th>Que.</th>\n",
       "      <th>Ont.</th>\n",
       "      <th>Man.</th>\n",
       "      <th>Sask.</th>\n",
       "      <th>Alta.</th>\n",
       "      <th>B.C.</th>\n",
       "      <th>Y.T.</th>\n",
       "      <th>N.W.T</th>\n",
       "      <th>Nun.</th>\n",
       "      <th>Canada</th>\n",
       "    </tr>\n",
       "  </thead>\n",
       "  <tbody>\n",
       "    <tr>\n",
       "      <th>0</th>\n",
       "      <td>1975.0</td>\n",
       "      <td>199.2</td>\n",
       "      <td>41.5</td>\n",
       "      <td>266.9</td>\n",
       "      <td>203.7</td>\n",
       "      <td>2531.2</td>\n",
       "      <td>3143.5</td>\n",
       "      <td>376.7</td>\n",
       "      <td>302.1</td>\n",
       "      <td>694.9</td>\n",
       "      <td>928.2</td>\n",
       "      <td>6.2</td>\n",
       "      <td>15.2</td>\n",
       "      <td>NaN</td>\n",
       "      <td>8709.3</td>\n",
       "    </tr>\n",
       "    <tr>\n",
       "      <th>1</th>\n",
       "      <td>1976.0</td>\n",
       "      <td>219.0</td>\n",
       "      <td>45.4</td>\n",
       "      <td>302.7</td>\n",
       "      <td>242.4</td>\n",
       "      <td>2972.5</td>\n",
       "      <td>3612.5</td>\n",
       "      <td>449.3</td>\n",
       "      <td>364.1</td>\n",
       "      <td>811.6</td>\n",
       "      <td>1082.7</td>\n",
       "      <td>8.8</td>\n",
       "      <td>19.0</td>\n",
       "      <td>NaN</td>\n",
       "      <td>10129.9</td>\n",
       "    </tr>\n",
       "    <tr>\n",
       "      <th>2</th>\n",
       "      <td>1977.0</td>\n",
       "      <td>233.5</td>\n",
       "      <td>50.3</td>\n",
       "      <td>334.6</td>\n",
       "      <td>271.7</td>\n",
       "      <td>3269.2</td>\n",
       "      <td>3929.1</td>\n",
       "      <td>497.3</td>\n",
       "      <td>410.8</td>\n",
       "      <td>879.1</td>\n",
       "      <td>1193.1</td>\n",
       "      <td>10.0</td>\n",
       "      <td>23.4</td>\n",
       "      <td>NaN</td>\n",
       "      <td>11102.0</td>\n",
       "    </tr>\n",
       "    <tr>\n",
       "      <th>3</th>\n",
       "      <td>1978.0</td>\n",
       "      <td>258.3</td>\n",
       "      <td>56.4</td>\n",
       "      <td>370.0</td>\n",
       "      <td>299.1</td>\n",
       "      <td>3661.8</td>\n",
       "      <td>4229.4</td>\n",
       "      <td>524.9</td>\n",
       "      <td>445.8</td>\n",
       "      <td>1020.5</td>\n",
       "      <td>1363.8</td>\n",
       "      <td>11.4</td>\n",
       "      <td>28.1</td>\n",
       "      <td>NaN</td>\n",
       "      <td>12269.4</td>\n",
       "    </tr>\n",
       "    <tr>\n",
       "      <th>4</th>\n",
       "      <td>1979.0</td>\n",
       "      <td>297.3</td>\n",
       "      <td>62.5</td>\n",
       "      <td>413.1</td>\n",
       "      <td>336.7</td>\n",
       "      <td>4088.1</td>\n",
       "      <td>4565.8</td>\n",
       "      <td>569.7</td>\n",
       "      <td>508.5</td>\n",
       "      <td>1258.2</td>\n",
       "      <td>1556.5</td>\n",
       "      <td>12.4</td>\n",
       "      <td>27.9</td>\n",
       "      <td>NaN</td>\n",
       "      <td>13696.6</td>\n",
       "    </tr>\n",
       "  </tbody>\n",
       "</table>\n",
       "</div>"
      ],
      "text/plain": [
       "     Year  N.L.     P.E.I.      N.S.     N.B.      Que.      Ont.   Man.  \\\n",
       "0  1975.0    199.2        41.5    266.9     203.7  2531.2  3143.5  376.7   \n",
       "1  1976.0    219.0        45.4    302.7     242.4  2972.5  3612.5  449.3   \n",
       "2  1977.0    233.5        50.3    334.6     271.7  3269.2  3929.1  497.3   \n",
       "3  1978.0    258.3        56.4    370.0     299.1  3661.8  4229.4  524.9   \n",
       "4  1979.0    297.3        62.5    413.1     336.7  4088.1  4565.8  569.7   \n",
       "\n",
       "   Sask.  Alta.      B.C.       Y.T.    N.W.T  Nun.   Canada  \n",
       "0  302.1      694.9      928.2     6.2   15.2   NaN   8709.3  \n",
       "1  364.1      811.6     1082.7     8.8   19.0   NaN  10129.9  \n",
       "2  410.8      879.1     1193.1    10.0   23.4   NaN  11102.0  \n",
       "3  445.8     1020.5     1363.8    11.4   28.1   NaN  12269.4  \n",
       "4  508.5     1258.2     1556.5    12.4   27.9   NaN  13696.6  "
      ]
     },
     "execution_count": 8,
     "metadata": {},
     "output_type": "execute_result"
    }
   ],
   "source": [
    "nhex_total.head()"
   ]
  },
  {
   "cell_type": "code",
   "execution_count": 9,
   "metadata": {},
   "outputs": [
    {
     "data": {
      "text/html": [
       "<div>\n",
       "<style scoped>\n",
       "    .dataframe tbody tr th:only-of-type {\n",
       "        vertical-align: middle;\n",
       "    }\n",
       "\n",
       "    .dataframe tbody tr th {\n",
       "        vertical-align: top;\n",
       "    }\n",
       "\n",
       "    .dataframe thead th {\n",
       "        text-align: right;\n",
       "    }\n",
       "</style>\n",
       "<table border=\"1\" class=\"dataframe\">\n",
       "  <thead>\n",
       "    <tr style=\"text-align: right;\">\n",
       "      <th></th>\n",
       "      <th>Year</th>\n",
       "      <th>N.L.</th>\n",
       "      <th>P.E.I.</th>\n",
       "      <th>N.S.</th>\n",
       "      <th>N.B.</th>\n",
       "      <th>Que.</th>\n",
       "      <th>Ont.</th>\n",
       "      <th>Man.</th>\n",
       "      <th>Sask.</th>\n",
       "      <th>Alta.</th>\n",
       "      <th>B.C.</th>\n",
       "      <th>Y.T.</th>\n",
       "      <th>N.W.T</th>\n",
       "      <th>Nun.</th>\n",
       "      <th>Canada (Average)</th>\n",
       "    </tr>\n",
       "  </thead>\n",
       "  <tbody>\n",
       "    <tr>\n",
       "      <th>0</th>\n",
       "      <td>1975.0</td>\n",
       "      <td>357.92</td>\n",
       "      <td>352.59</td>\n",
       "      <td>322.88</td>\n",
       "      <td>300.87</td>\n",
       "      <td>399.86</td>\n",
       "      <td>377.83</td>\n",
       "      <td>367.52</td>\n",
       "      <td>329.31</td>\n",
       "      <td>384.21</td>\n",
       "      <td>371.34</td>\n",
       "      <td>281.70</td>\n",
       "      <td>355.89</td>\n",
       "      <td>NaN</td>\n",
       "      <td>376.32</td>\n",
       "    </tr>\n",
       "    <tr>\n",
       "      <th>1</th>\n",
       "      <td>1976.0</td>\n",
       "      <td>389.23</td>\n",
       "      <td>382.68</td>\n",
       "      <td>362.39</td>\n",
       "      <td>351.60</td>\n",
       "      <td>464.68</td>\n",
       "      <td>429.35</td>\n",
       "      <td>435.49</td>\n",
       "      <td>390.82</td>\n",
       "      <td>434.15</td>\n",
       "      <td>427.29</td>\n",
       "      <td>393.11</td>\n",
       "      <td>427.60</td>\n",
       "      <td>NaN</td>\n",
       "      <td>431.98</td>\n",
       "    </tr>\n",
       "    <tr>\n",
       "      <th>2</th>\n",
       "      <td>1977.0</td>\n",
       "      <td>412.98</td>\n",
       "      <td>419.50</td>\n",
       "      <td>398.29</td>\n",
       "      <td>390.49</td>\n",
       "      <td>508.18</td>\n",
       "      <td>462.03</td>\n",
       "      <td>479.36</td>\n",
       "      <td>434.85</td>\n",
       "      <td>451.21</td>\n",
       "      <td>464.19</td>\n",
       "      <td>444.82</td>\n",
       "      <td>525.96</td>\n",
       "      <td>NaN</td>\n",
       "      <td>467.93</td>\n",
       "    </tr>\n",
       "    <tr>\n",
       "      <th>3</th>\n",
       "      <td>1978.0</td>\n",
       "      <td>455.02</td>\n",
       "      <td>463.22</td>\n",
       "      <td>438.04</td>\n",
       "      <td>427.56</td>\n",
       "      <td>568.57</td>\n",
       "      <td>492.35</td>\n",
       "      <td>504.31</td>\n",
       "      <td>468.12</td>\n",
       "      <td>504.61</td>\n",
       "      <td>521.51</td>\n",
       "      <td>492.42</td>\n",
       "      <td>619.82</td>\n",
       "      <td>NaN</td>\n",
       "      <td>512.01</td>\n",
       "    </tr>\n",
       "    <tr>\n",
       "      <th>4</th>\n",
       "      <td>1979.0</td>\n",
       "      <td>521.43</td>\n",
       "      <td>508.78</td>\n",
       "      <td>486.34</td>\n",
       "      <td>478.80</td>\n",
       "      <td>632.25</td>\n",
       "      <td>527.10</td>\n",
       "      <td>549.26</td>\n",
       "      <td>529.79</td>\n",
       "      <td>600.00</td>\n",
       "      <td>583.99</td>\n",
       "      <td>538.34</td>\n",
       "      <td>610.04</td>\n",
       "      <td>NaN</td>\n",
       "      <td>565.94</td>\n",
       "    </tr>\n",
       "  </tbody>\n",
       "</table>\n",
       "</div>"
      ],
      "text/plain": [
       "     Year    N.L.  P.E.I.    N.S.    N.B.    Que.    Ont.    Man.   Sask.  \\\n",
       "0  1975.0  357.92  352.59  322.88  300.87  399.86  377.83  367.52  329.31   \n",
       "1  1976.0  389.23  382.68  362.39  351.60  464.68  429.35  435.49  390.82   \n",
       "2  1977.0  412.98  419.50  398.29  390.49  508.18  462.03  479.36  434.85   \n",
       "3  1978.0  455.02  463.22  438.04  427.56  568.57  492.35  504.31  468.12   \n",
       "4  1979.0  521.43  508.78  486.34  478.80  632.25  527.10  549.26  529.79   \n",
       "\n",
       "    Alta.    B.C.    Y.T.   N.W.T  Nun.  Canada (Average)  \n",
       "0  384.21  371.34  281.70  355.89   NaN            376.32  \n",
       "1  434.15  427.29  393.11  427.60   NaN            431.98  \n",
       "2  451.21  464.19  444.82  525.96   NaN            467.93  \n",
       "3  504.61  521.51  492.42  619.82   NaN            512.01  \n",
       "4  600.00  583.99  538.34  610.04   NaN            565.94  "
      ]
     },
     "execution_count": 9,
     "metadata": {},
     "output_type": "execute_result"
    }
   ],
   "source": [
    "nhex_percapita.columns = ['Year', 'N.L.', 'P.E.I.', 'N.S.', 'N.B.', 'Que.', 'Ont.', 'Man.', 'Sask.', 'Alta.', \n",
    "                        'B.C.', 'Y.T.', 'N.W.T', 'Nun.', 'Canada (Average)']\n",
    "nhex_percapita.head()"
   ]
  },
  {
   "cell_type": "code",
   "execution_count": 10,
   "metadata": {},
   "outputs": [
    {
     "ename": "FileNotFoundError",
     "evalue": "[Errno 2] No such file or directory: 'Data\\\\cchs_201920_pumf.dta'",
     "output_type": "error",
     "traceback": [
      "\u001b[0;31m---------------------------------------------------------------------------\u001b[0m",
      "\u001b[0;31mFileNotFoundError\u001b[0m                         Traceback (most recent call last)",
      "Cell \u001b[0;32mIn[10], line 2\u001b[0m\n\u001b[1;32m      1\u001b[0m keep_attributes \u001b[38;5;241m=\u001b[39m [\u001b[38;5;124m'\u001b[39m\u001b[38;5;124mgeogprv\u001b[39m\u001b[38;5;124m'\u001b[39m,\u001b[38;5;124m'\u001b[39m\u001b[38;5;124mPHC_060\u001b[39m\u001b[38;5;124m'\u001b[39m,\u001b[38;5;124m'\u001b[39m\u001b[38;5;124mPHC_035\u001b[39m\u001b[38;5;124m'\u001b[39m,\u001b[38;5;124m'\u001b[39m\u001b[38;5;124mPHC_005\u001b[39m\u001b[38;5;124m'\u001b[39m,\u001b[38;5;124m'\u001b[39m\u001b[38;5;124mPHC_020\u001b[39m\u001b[38;5;124m'\u001b[39m,\u001b[38;5;124m'\u001b[39m\u001b[38;5;124mUCN_005\u001b[39m\u001b[38;5;124m'\u001b[39m]\n\u001b[0;32m----> 2\u001b[0m cchs_data \u001b[38;5;241m=\u001b[39m \u001b[43mpd\u001b[49m\u001b[38;5;241;43m.\u001b[39;49m\u001b[43mread_stata\u001b[49m\u001b[43m(\u001b[49m\u001b[38;5;124;43m\"\u001b[39;49m\u001b[38;5;124;43mData\u001b[39;49m\u001b[38;5;124;43m\\\u001b[39;49m\u001b[38;5;124;43mcchs_201920_pumf.dta\u001b[39;49m\u001b[38;5;124;43m\"\u001b[39;49m\u001b[43m,\u001b[49m\u001b[43m \u001b[49m\u001b[43mcolumns\u001b[49m\u001b[38;5;241;43m=\u001b[39;49m\u001b[43mkeep_attributes\u001b[49m\u001b[43m,\u001b[49m\u001b[43mconvert_categoricals\u001b[49m\u001b[38;5;241;43m=\u001b[39;49m\u001b[38;5;28;43;01mFalse\u001b[39;49;00m\u001b[43m)\u001b[49m\n\u001b[1;32m      3\u001b[0m cchs_data\u001b[38;5;241m.\u001b[39mshape\n",
      "File \u001b[0;32m~/miniforge3/envs/cpsc368/lib/python3.9/site-packages/pandas/io/stata.py:2109\u001b[0m, in \u001b[0;36mread_stata\u001b[0;34m(filepath_or_buffer, convert_dates, convert_categoricals, index_col, convert_missing, preserve_dtypes, columns, order_categoricals, chunksize, iterator, compression, storage_options)\u001b[0m\n\u001b[1;32m   2106\u001b[0m     \u001b[38;5;28;01mreturn\u001b[39;00m reader\n\u001b[1;32m   2108\u001b[0m \u001b[38;5;28;01mwith\u001b[39;00m reader:\n\u001b[0;32m-> 2109\u001b[0m     \u001b[38;5;28;01mreturn\u001b[39;00m \u001b[43mreader\u001b[49m\u001b[38;5;241;43m.\u001b[39;49m\u001b[43mread\u001b[49m\u001b[43m(\u001b[49m\u001b[43m)\u001b[49m\n",
      "File \u001b[0;32m~/miniforge3/envs/cpsc368/lib/python3.9/site-packages/pandas/io/stata.py:1683\u001b[0m, in \u001b[0;36mStataReader.read\u001b[0;34m(self, nrows, convert_dates, convert_categoricals, index_col, convert_missing, preserve_dtypes, columns, order_categoricals)\u001b[0m\n\u001b[1;32m   1671\u001b[0m \u001b[38;5;129m@Appender\u001b[39m(_read_method_doc)\n\u001b[1;32m   1672\u001b[0m \u001b[38;5;28;01mdef\u001b[39;00m \u001b[38;5;21mread\u001b[39m(\n\u001b[1;32m   1673\u001b[0m     \u001b[38;5;28mself\u001b[39m,\n\u001b[0;32m   (...)\u001b[0m\n\u001b[1;32m   1681\u001b[0m     order_categoricals: \u001b[38;5;28mbool\u001b[39m \u001b[38;5;241m|\u001b[39m \u001b[38;5;28;01mNone\u001b[39;00m \u001b[38;5;241m=\u001b[39m \u001b[38;5;28;01mNone\u001b[39;00m,\n\u001b[1;32m   1682\u001b[0m ) \u001b[38;5;241m-\u001b[39m\u001b[38;5;241m>\u001b[39m DataFrame:\n\u001b[0;32m-> 1683\u001b[0m     \u001b[38;5;28;43mself\u001b[39;49m\u001b[38;5;241;43m.\u001b[39;49m\u001b[43m_ensure_open\u001b[49m\u001b[43m(\u001b[49m\u001b[43m)\u001b[49m\n\u001b[1;32m   1685\u001b[0m     \u001b[38;5;66;03m# Handle options\u001b[39;00m\n\u001b[1;32m   1686\u001b[0m     \u001b[38;5;28;01mif\u001b[39;00m convert_dates \u001b[38;5;129;01mis\u001b[39;00m \u001b[38;5;28;01mNone\u001b[39;00m:\n",
      "File \u001b[0;32m~/miniforge3/envs/cpsc368/lib/python3.9/site-packages/pandas/io/stata.py:1175\u001b[0m, in \u001b[0;36mStataReader._ensure_open\u001b[0;34m(self)\u001b[0m\n\u001b[1;32m   1171\u001b[0m \u001b[38;5;250m\u001b[39m\u001b[38;5;124;03m\"\"\"\u001b[39;00m\n\u001b[1;32m   1172\u001b[0m \u001b[38;5;124;03mEnsure the file has been opened and its header data read.\u001b[39;00m\n\u001b[1;32m   1173\u001b[0m \u001b[38;5;124;03m\"\"\"\u001b[39;00m\n\u001b[1;32m   1174\u001b[0m \u001b[38;5;28;01mif\u001b[39;00m \u001b[38;5;129;01mnot\u001b[39;00m \u001b[38;5;28mhasattr\u001b[39m(\u001b[38;5;28mself\u001b[39m, \u001b[38;5;124m\"\u001b[39m\u001b[38;5;124m_path_or_buf\u001b[39m\u001b[38;5;124m\"\u001b[39m):\n\u001b[0;32m-> 1175\u001b[0m     \u001b[38;5;28;43mself\u001b[39;49m\u001b[38;5;241;43m.\u001b[39;49m\u001b[43m_open_file\u001b[49m\u001b[43m(\u001b[49m\u001b[43m)\u001b[49m\n",
      "File \u001b[0;32m~/miniforge3/envs/cpsc368/lib/python3.9/site-packages/pandas/io/stata.py:1188\u001b[0m, in \u001b[0;36mStataReader._open_file\u001b[0;34m(self)\u001b[0m\n\u001b[1;32m   1181\u001b[0m \u001b[38;5;28;01mif\u001b[39;00m \u001b[38;5;129;01mnot\u001b[39;00m \u001b[38;5;28mself\u001b[39m\u001b[38;5;241m.\u001b[39m_entered:\n\u001b[1;32m   1182\u001b[0m     warnings\u001b[38;5;241m.\u001b[39mwarn(\n\u001b[1;32m   1183\u001b[0m         \u001b[38;5;124m\"\u001b[39m\u001b[38;5;124mStataReader is being used without using a context manager. \u001b[39m\u001b[38;5;124m\"\u001b[39m\n\u001b[1;32m   1184\u001b[0m         \u001b[38;5;124m\"\u001b[39m\u001b[38;5;124mUsing StataReader as a context manager is the only supported method.\u001b[39m\u001b[38;5;124m\"\u001b[39m,\n\u001b[1;32m   1185\u001b[0m         \u001b[38;5;167;01mResourceWarning\u001b[39;00m,\n\u001b[1;32m   1186\u001b[0m         stacklevel\u001b[38;5;241m=\u001b[39mfind_stack_level(),\n\u001b[1;32m   1187\u001b[0m     )\n\u001b[0;32m-> 1188\u001b[0m handles \u001b[38;5;241m=\u001b[39m \u001b[43mget_handle\u001b[49m\u001b[43m(\u001b[49m\n\u001b[1;32m   1189\u001b[0m \u001b[43m    \u001b[49m\u001b[38;5;28;43mself\u001b[39;49m\u001b[38;5;241;43m.\u001b[39;49m\u001b[43m_original_path_or_buf\u001b[49m\u001b[43m,\u001b[49m\n\u001b[1;32m   1190\u001b[0m \u001b[43m    \u001b[49m\u001b[38;5;124;43m\"\u001b[39;49m\u001b[38;5;124;43mrb\u001b[39;49m\u001b[38;5;124;43m\"\u001b[39;49m\u001b[43m,\u001b[49m\n\u001b[1;32m   1191\u001b[0m \u001b[43m    \u001b[49m\u001b[43mstorage_options\u001b[49m\u001b[38;5;241;43m=\u001b[39;49m\u001b[38;5;28;43mself\u001b[39;49m\u001b[38;5;241;43m.\u001b[39;49m\u001b[43m_storage_options\u001b[49m\u001b[43m,\u001b[49m\n\u001b[1;32m   1192\u001b[0m \u001b[43m    \u001b[49m\u001b[43mis_text\u001b[49m\u001b[38;5;241;43m=\u001b[39;49m\u001b[38;5;28;43;01mFalse\u001b[39;49;00m\u001b[43m,\u001b[49m\n\u001b[1;32m   1193\u001b[0m \u001b[43m    \u001b[49m\u001b[43mcompression\u001b[49m\u001b[38;5;241;43m=\u001b[39;49m\u001b[38;5;28;43mself\u001b[39;49m\u001b[38;5;241;43m.\u001b[39;49m\u001b[43m_compression\u001b[49m\u001b[43m,\u001b[49m\n\u001b[1;32m   1194\u001b[0m \u001b[43m\u001b[49m\u001b[43m)\u001b[49m\n\u001b[1;32m   1195\u001b[0m \u001b[38;5;28;01mif\u001b[39;00m \u001b[38;5;28mhasattr\u001b[39m(handles\u001b[38;5;241m.\u001b[39mhandle, \u001b[38;5;124m\"\u001b[39m\u001b[38;5;124mseekable\u001b[39m\u001b[38;5;124m\"\u001b[39m) \u001b[38;5;129;01mand\u001b[39;00m handles\u001b[38;5;241m.\u001b[39mhandle\u001b[38;5;241m.\u001b[39mseekable():\n\u001b[1;32m   1196\u001b[0m     \u001b[38;5;66;03m# If the handle is directly seekable, use it without an extra copy.\u001b[39;00m\n\u001b[1;32m   1197\u001b[0m     \u001b[38;5;28mself\u001b[39m\u001b[38;5;241m.\u001b[39m_path_or_buf \u001b[38;5;241m=\u001b[39m handles\u001b[38;5;241m.\u001b[39mhandle\n",
      "File \u001b[0;32m~/miniforge3/envs/cpsc368/lib/python3.9/site-packages/pandas/io/common.py:882\u001b[0m, in \u001b[0;36mget_handle\u001b[0;34m(path_or_buf, mode, encoding, compression, memory_map, is_text, errors, storage_options)\u001b[0m\n\u001b[1;32m    873\u001b[0m         handle \u001b[38;5;241m=\u001b[39m \u001b[38;5;28mopen\u001b[39m(\n\u001b[1;32m    874\u001b[0m             handle,\n\u001b[1;32m    875\u001b[0m             ioargs\u001b[38;5;241m.\u001b[39mmode,\n\u001b[0;32m   (...)\u001b[0m\n\u001b[1;32m    878\u001b[0m             newline\u001b[38;5;241m=\u001b[39m\u001b[38;5;124m\"\u001b[39m\u001b[38;5;124m\"\u001b[39m,\n\u001b[1;32m    879\u001b[0m         )\n\u001b[1;32m    880\u001b[0m     \u001b[38;5;28;01melse\u001b[39;00m:\n\u001b[1;32m    881\u001b[0m         \u001b[38;5;66;03m# Binary mode\u001b[39;00m\n\u001b[0;32m--> 882\u001b[0m         handle \u001b[38;5;241m=\u001b[39m \u001b[38;5;28;43mopen\u001b[39;49m\u001b[43m(\u001b[49m\u001b[43mhandle\u001b[49m\u001b[43m,\u001b[49m\u001b[43m \u001b[49m\u001b[43mioargs\u001b[49m\u001b[38;5;241;43m.\u001b[39;49m\u001b[43mmode\u001b[49m\u001b[43m)\u001b[49m\n\u001b[1;32m    883\u001b[0m     handles\u001b[38;5;241m.\u001b[39mappend(handle)\n\u001b[1;32m    885\u001b[0m \u001b[38;5;66;03m# Convert BytesIO or file objects passed with an encoding\u001b[39;00m\n",
      "\u001b[0;31mFileNotFoundError\u001b[0m: [Errno 2] No such file or directory: 'Data\\\\cchs_201920_pumf.dta'"
     ]
    }
   ],
   "source": [
    "keep_attributes = ['geogprv','PHC_060','PHC_035','PHC_005','PHC_020','UCN_005']\n",
    "cchs_data = pd.read_stata(\"Data\\cchs_201920_pumf.dta\", columns=keep_attributes,convert_categoricals=False)\n",
    "cchs_data.shape"
   ]
  },
  {
   "cell_type": "code",
   "execution_count": null,
   "metadata": {},
   "outputs": [],
   "source": [
    "for name in cchs_data['geogprv'].unique():\n",
    "    print(name)"
   ]
  },
  {
   "cell_type": "code",
   "execution_count": null,
   "metadata": {},
   "outputs": [],
   "source": [
    "prov_dict = {47:\"Sask.\",59:'B.C.',13:'N.B.',46:'Man.',35:'Ont.',12:'N.S.',24:'Que.',10:'N.L.', \n",
    "            48: 'Alta.', 11: 'P.E.I.', 60: 'Terrs.'}\n",
    "cchs_data['geogprv'] = cchs_data['geogprv'].replace(prov_dict)\n",
    "\n",
    "cchs_data_avg = cchs_data.groupby('geogprv',axis=0).mean().round(3).reset_index()\n",
    "cchs_data_avg"
   ]
  },
  {
   "cell_type": "code",
   "execution_count": null,
   "metadata": {},
   "outputs": [],
   "source": [
    "survey_year_expenditure = nhex_percapita[44:46]\n",
    "survey_year_expenditure['Terrs'] = ((survey_year_expenditure['Y.T.'] + survey_year_expenditure['N.W.T'] +\n",
    "                                    survey_year_expenditure['Nun.'])/3)\n",
    "survey_year_expenditure = survey_year_expenditure.drop(['Year', 'Canada (Average)','Y.T.','N.W.T','Nun.'], axis=1)\n",
    "nhex_pivot = survey_year_expenditure.melt(var_name='geogprv',value_name='avg_percap_spend'\n",
    "                                        ).groupby('geogprv').mean().round(3).reset_index()\n",
    "nhex_pivot"
   ]
  },
  {
   "cell_type": "code",
   "execution_count": null,
   "metadata": {},
   "outputs": [],
   "source": [
    "combined_data = nhex_pivot.merge(cchs_data_avg, on='geogprv')\n",
    "combined_data.to_csv(\"cchs+nhex.csv\")\n",
    "combined_data"
   ]
  },
  {
   "cell_type": "code",
   "execution_count": null,
   "metadata": {},
   "outputs": [],
   "source": [
    "PHC_060_chart = alt.Chart(combined_data).mark_circle().encode(\n",
    "    alt.X('PHC_060').scale(domain=[2,3]),\n",
    "    alt.Y('avg_percap_spend').scale(domain=[4000, 6500]),\n",
    "    alt.Color('geogprv'))\n",
    "\n",
    "PHC_035_chart = alt.Chart(combined_data).mark_circle().encode(\n",
    "    alt.X('PHC_035').scale(domain=[2.75,4.25]),\n",
    "    alt.Y('avg_percap_spend').scale(domain=[4000, 6500]),\n",
    "    alt.Color('geogprv'))\n",
    "\n",
    "PHC_005_chart = alt.Chart(combined_data).mark_circle().encode(\n",
    "    alt.X('PHC_005').scale(domain=[1,1.25]),\n",
    "    alt.Y('avg_percap_spend').scale(domain=[4000, 6500]),\n",
    "    alt.Color('geogprv'))\n",
    "\n",
    "PHC_020_chart = alt.Chart(combined_data).mark_circle().encode(\n",
    "    alt.X('PHC_020').scale(domain=[1,1.25]),\n",
    "    alt.Y('avg_percap_spend').scale(domain=[4000, 6500]),\n",
    "    alt.Color('geogprv'))\n",
    "\n",
    "UCN_005_chart = alt.Chart(combined_data).mark_circle().encode(\n",
    "    alt.X('UCN_005').scale(domain=[1.9,2.1]),\n",
    "    alt.Y('avg_percap_spend').scale(domain=[4000, 6500]),\n",
    "    alt.Color('geogprv'))\n",
    "\n",
    "PHC_060_chart & PHC_020_chart | PHC_035_chart & UCN_005_chart | PHC_005_chart "
   ]
  },
  {
   "cell_type": "code",
   "execution_count": null,
   "metadata": {},
   "outputs": [],
   "source": [
    "def make_sql(input_file, output_file, table_name):\n",
    "    data = pd.read_csv(input_file)\n",
    "    with open(output_file, \"w\") as f:\n",
    "        f.write(\"\")\n",
    "    for index, row in data.iterrows():\n",
    "        with open(output_file, \"a\") as f:\n",
    "            f.write(\"\\ninsert into \" + table_name + \" \\nvalues(\")\n",
    "            for item in range(data.shape[1]):\n",
    "                if item == data.shape[1] - 1:\n",
    "                    if str(row[item]) == 'nan':\n",
    "                        f.write(\"NULL\"+');\\n')\n",
    "                    else:\n",
    "                        f.write(\"'\"+str(row[item])+\"'\"+');\\n')\n",
    "                else:\n",
    "                    if str(row[item]) == 'nan':\n",
    "                        f.write(\"NULL\"+');\\n')\n",
    "                    else:\n",
    "                        f.write(\"'\"+str(row[item])+\"'\"+', ')"
   ]
  }
 ],
 "metadata": {
  "kernelspec": {
   "display_name": "Python 3 (ipykernel)",
   "language": "python",
   "name": "python3"
  },
  "language_info": {
   "codemirror_mode": {
    "name": "ipython",
    "version": 3
   },
   "file_extension": ".py",
   "mimetype": "text/x-python",
   "name": "python",
   "nbconvert_exporter": "python",
   "pygments_lexer": "ipython3",
   "version": "3.9.21"
  }
 },
 "nbformat": 4,
 "nbformat_minor": 4
}
